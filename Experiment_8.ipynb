{
  "nbformat": 4,
  "nbformat_minor": 0,
  "metadata": {
    "colab": {
      "provenance": []
    },
    "kernelspec": {
      "name": "python3",
      "display_name": "Python 3"
    },
    "language_info": {
      "name": "python"
    }
  },
  "cells": [
    {
      "cell_type": "markdown",
      "source": [
        "Experiment 8"
      ],
      "metadata": {
        "id": "iaY1KCFpC2eK"
      }
    },
    {
      "cell_type": "markdown",
      "source": [
        "Q. Write a Python program that accepts a single integer value entered by the user. If the value entered is less than one, the program prints nothing. If the user enters a positive integer, n, the program prints an n×n box drawn with * characters. If the users enters 1, for example, the program prints * If the user enters a 2, it prints ** ** An entry of three yields."
      ],
      "metadata": {
        "id": "AvAz19TYC9iO"
      }
    },
    {
      "cell_type": "code",
      "execution_count": null,
      "metadata": {
        "colab": {
          "base_uri": "https://localhost:8080/"
        },
        "id": "EjrJZnAr_9LJ",
        "outputId": "a759fbf1-a747-4318-fae5-2d35f31e0801"
      },
      "outputs": [
        {
          "name": "stdout",
          "output_type": "stream",
          "text": [
            "Enter an integer:-4\n"
          ]
        }
      ],
      "source": [
        "n=int(input(\"Enter an integer:\"))\n",
        "if(n>=0):\n",
        "  for i in range (0,n):\n",
        "    for j in range (0,n):\n",
        "      print(\"*\",end=\" \")\n",
        "    print(\"\")"
      ]
    }
  ]
}