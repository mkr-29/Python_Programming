{
  "cells": [
    {
      "cell_type": "markdown",
      "metadata": {
        "id": "QOVjb5l5VNwn"
      },
      "source": [
        "Experiment 2"
      ]
    },
    {
      "cell_type": "markdown",
      "metadata": {
        "id": "ounsjNEZVIXF"
      },
      "source": [
        "1. Write a Python program to get the Python version you are using."
      ]
    },
    {
      "cell_type": "code",
      "execution_count": 8,
      "metadata": {
        "colab": {
          "base_uri": "https://localhost:8080/"
        },
        "id": "KhEryyknUB6v",
        "outputId": "06f61e9b-a643-48a6-f61d-fd164debc7fb"
      },
      "outputs": [
        {
          "name": "stdout",
          "output_type": "stream",
          "text": [
            "3.7.13 (default, Apr 24 2022, 01:04:09) \n",
            "[GCC 7.5.0]\n"
          ]
        }
      ],
      "source": [
        "import sys\n",
        "print(sys.version)"
      ]
    },
    {
      "cell_type": "markdown",
      "metadata": {
        "id": "Z-EfltOzVVNM"
      },
      "source": [
        "2. Write a Python program which accepts the radius of a circle from the user and compute the area."
      ]
    },
    {
      "cell_type": "code",
      "execution_count": 7,
      "metadata": {
        "colab": {
          "base_uri": "https://localhost:8080/"
        },
        "id": "if8hjB_mUFp5",
        "outputId": "f33169ce-7707-4f9d-dbad-034b51f38140"
      },
      "outputs": [
        {
          "name": "stdout",
          "output_type": "stream",
          "text": [
            "Enter radius of the circle:4\n",
            "Area of the circle is: 50.285714285714285\n"
          ]
        }
      ],
      "source": [
        "radius=int(input(\"Enter radius of the circle:\"))\n",
        "area=(22/7)*(radius**2)\n",
        "print(\"Area of the circle is:\",area)"
      ]
    }
  ],
  "metadata": {
    "colab": {
      "name": "Experiment_2.ipynb",
      "provenance": []
    },
    "kernelspec": {
      "display_name": "Python 3",
      "name": "python3"
    },
    "language_info": {
      "name": "python"
    }
  },
  "nbformat": 4,
  "nbformat_minor": 0
}
