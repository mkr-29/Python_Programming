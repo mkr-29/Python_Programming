{
  "cells": [
    {
      "cell_type": "markdown",
      "metadata": {
        "id": "KK30_yyGYNeX"
      },
      "source": [
        "Experiment 19"
      ]
    },
    {
      "cell_type": "markdown",
      "metadata": {
        "id": "E6tGJc8CYSOy"
      },
      "source": [
        "Write your own python program to handle exceptions using:\n",
        "1. try…except"
      ]
    },
    {
      "cell_type": "code",
      "execution_count": null,
      "metadata": {
        "colab": {
          "base_uri": "https://localhost:8080/"
        },
        "id": "_WwoC5zZYKUQ",
        "outputId": "6c93a8b6-2687-401b-c86f-066cc843df70"
      },
      "outputs": [
        {
          "name": "stdout",
          "output_type": "stream",
          "text": [
            "Hello World\n"
          ]
        }
      ],
      "source": [
        "try:\n",
        "  print(\"Hello World\")\n",
        "except:\n",
        "  print(\"Python\")"
      ]
    },
    {
      "cell_type": "markdown",
      "metadata": {
        "id": "yrtJ4mmbZPk2"
      },
      "source": [
        "2. try…except…inbuilt exception"
      ]
    },
    {
      "cell_type": "code",
      "execution_count": null,
      "metadata": {
        "colab": {
          "base_uri": "https://localhost:8080/"
        },
        "id": "eryIZzHtZQjF",
        "outputId": "fa769b4c-c976-42ab-b23b-193c7fe44559"
      },
      "outputs": [
        {
          "name": "stdout",
          "output_type": "stream",
          "text": [
            "Enter a number:f\n",
            "Enter value is not a number.\n"
          ]
        }
      ],
      "source": [
        "try:\n",
        "  a=int(input(\"Enter a number:\"))\n",
        "  print(\"Entered value is a number.\")\n",
        "except ValueError:\n",
        "  print(\"Enter value is not a number.\")\n",
        "except:\n",
        "  print(\"Error!!!\")"
      ]
    },
    {
      "cell_type": "markdown",
      "metadata": {
        "id": "ymlTnS0gZZ9a"
      },
      "source": [
        "3. try… except…else"
      ]
    },
    {
      "cell_type": "code",
      "execution_count": null,
      "metadata": {
        "colab": {
          "base_uri": "https://localhost:8080/"
        },
        "id": "kbSCrkFoZjDq",
        "outputId": "6796506d-d2d1-4184-8b80-82af60773612"
      },
      "outputs": [
        {
          "name": "stdout",
          "output_type": "stream",
          "text": [
            "Hello\n",
            "Python\n"
          ]
        }
      ],
      "source": [
        "try:\n",
        "  print(\"Hello\")\n",
        "except:\n",
        "  print(\"World\")\n",
        "else:\n",
        "  print(\"Python\")"
      ]
    },
    {
      "cell_type": "markdown",
      "metadata": {
        "id": "KXr6YVIPZbSC"
      },
      "source": [
        "4.try…except…else….finally"
      ]
    },
    {
      "cell_type": "code",
      "execution_count": null,
      "metadata": {
        "colab": {
          "base_uri": "https://localhost:8080/"
        },
        "id": "Fd-ZY2-oZpHZ",
        "outputId": "ca83e9cc-fde2-4c08-fce8-99836aaef43c"
      },
      "outputs": [
        {
          "name": "stdout",
          "output_type": "stream",
          "text": [
            "Variable not defined.\n",
            "Error!!!\n"
          ]
        }
      ],
      "source": [
        "try:\n",
        "  print(r)\n",
        "except:\n",
        "  print(\"Variable not defined.\")\n",
        "finally:\n",
        "  print(\"Error!!!\")"
      ]
    },
    {
      "cell_type": "markdown",
      "metadata": {
        "id": "ed0V77TeZcfR"
      },
      "source": [
        "5. try.. except..except.."
      ]
    },
    {
      "cell_type": "code",
      "execution_count": null,
      "metadata": {
        "colab": {
          "base_uri": "https://localhost:8080/"
        },
        "id": "c-GWGeQbZvC4",
        "outputId": "876a125c-d918-49a9-fb82-d8164b9d3175"
      },
      "outputs": [
        {
          "name": "stdout",
          "output_type": "stream",
          "text": [
            "Variable not defined.\n"
          ]
        }
      ],
      "source": [
        "try:\n",
        "  print(p)\n",
        "except NameError:\n",
        "  print(\"Variable not defined.\")\n",
        "except:\n",
        "  print(\"Error!!!\")"
      ]
    },
    {
      "cell_type": "markdown",
      "metadata": {
        "id": "4YBg7aMaZeUj"
      },
      "source": [
        "6. try…raise..except.."
      ]
    },
    {
      "cell_type": "code",
      "execution_count": null,
      "metadata": {
        "colab": {
          "base_uri": "https://localhost:8080/",
          "height": 391
        },
        "id": "rPEg5DuKZy95",
        "outputId": "53d7624e-6865-404e-cafb-142b633345b0"
      },
      "outputs": [
        {
          "name": "stdout",
          "output_type": "stream",
          "text": [
            "Enter a number:dfs\n"
          ]
        },
        {
          "ename": "TypeError",
          "evalue": "ignored",
          "output_type": "error",
          "traceback": [
            "\u001b[0;31m---------------------------------------------------------------------------\u001b[0m",
            "\u001b[0;31mValueError\u001b[0m                                Traceback (most recent call last)",
            "\u001b[0;32m<ipython-input-28-799f1e95984e>\u001b[0m in \u001b[0;36m<module>\u001b[0;34m\u001b[0m\n\u001b[1;32m      1\u001b[0m \u001b[0;32mtry\u001b[0m\u001b[0;34m:\u001b[0m\u001b[0;34m\u001b[0m\u001b[0;34m\u001b[0m\u001b[0m\n\u001b[0;32m----> 2\u001b[0;31m   \u001b[0mn\u001b[0m\u001b[0;34m=\u001b[0m\u001b[0mint\u001b[0m\u001b[0;34m(\u001b[0m\u001b[0minput\u001b[0m\u001b[0;34m(\u001b[0m\u001b[0;34m\"Enter a number:\"\u001b[0m\u001b[0;34m)\u001b[0m\u001b[0;34m)\u001b[0m\u001b[0;34m\u001b[0m\u001b[0;34m\u001b[0m\u001b[0m\n\u001b[0m\u001b[1;32m      3\u001b[0m   \u001b[0mprint\u001b[0m\u001b[0;34m(\u001b[0m\u001b[0;34m\"Entered value is a number.\"\u001b[0m\u001b[0;34m)\u001b[0m\u001b[0;34m\u001b[0m\u001b[0;34m\u001b[0m\u001b[0m\n",
            "\u001b[0;31mValueError\u001b[0m: invalid literal for int() with base 10: 'dfs'",
            "\nDuring handling of the above exception, another exception occurred:\n",
            "\u001b[0;31mTypeError\u001b[0m                                 Traceback (most recent call last)",
            "\u001b[0;32m<ipython-input-28-799f1e95984e>\u001b[0m in \u001b[0;36m<module>\u001b[0;34m\u001b[0m\n\u001b[1;32m      4\u001b[0m \u001b[0;32mexcept\u001b[0m \u001b[0mValueError\u001b[0m\u001b[0;34m:\u001b[0m\u001b[0;34m\u001b[0m\u001b[0;34m\u001b[0m\u001b[0m\n\u001b[1;32m      5\u001b[0m   \u001b[0;32mif\u001b[0m \u001b[0;32mnot\u001b[0m \u001b[0mtype\u001b[0m\u001b[0;34m(\u001b[0m\u001b[0mstr_1\u001b[0m\u001b[0;34m)\u001b[0m \u001b[0;32mis\u001b[0m \u001b[0mint\u001b[0m\u001b[0;34m:\u001b[0m\u001b[0;34m\u001b[0m\u001b[0;34m\u001b[0m\u001b[0m\n\u001b[0;32m----> 6\u001b[0;31m     \u001b[0;32mraise\u001b[0m \u001b[0mTypeError\u001b[0m\u001b[0;34m(\u001b[0m\u001b[0;34m\"Only integers are allowed.\"\u001b[0m\u001b[0;34m)\u001b[0m\u001b[0;34m\u001b[0m\u001b[0;34m\u001b[0m\u001b[0m\n\u001b[0m",
            "\u001b[0;31mTypeError\u001b[0m: Only integers are allowed."
          ]
        }
      ],
      "source": [
        "try:\n",
        "  n=int(input(\"Enter a number:\"))\n",
        "  print(\"Entered value is a number.\")\n",
        "except ValueError:\n",
        "  if not type(str_1) is int:\n",
        "    raise TypeError(\"Only integers are allowed.\")"
      ]
    }
  ],
  "metadata": {
    "colab": {
      "collapsed_sections": [],
      "provenance": []
    },
    "kernelspec": {
      "display_name": "Python 3",
      "name": "python3"
    },
    "language_info": {
      "name": "python"
    }
  },
  "nbformat": 4,
  "nbformat_minor": 0
}
