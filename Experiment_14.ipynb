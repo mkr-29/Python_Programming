{
  "cells": [
    {
      "cell_type": "markdown",
      "metadata": {
        "id": "FJPNBKR7r_Eh"
      },
      "source": [
        "Experiment 14"
      ]
    },
    {
      "cell_type": "markdown",
      "metadata": {
        "id": "KVTpeCk9sJu8"
      },
      "source": [
        "1. WAP to multiply two matrices:\n",
        "Input:\n",
        "A = [[1,1], [1,1]]\n",
        "B = [[2,2], [2,2]]\n",
        "Output:\n",
        "[[4, 4], [4, 4]]"
      ]
    },
    {
      "cell_type": "code",
      "execution_count": null,
      "metadata": {
        "colab": {
          "base_uri": "https://localhost:8080/"
        },
        "id": "uFo9ZpZIr8gj",
        "outputId": "285e147b-8bd0-45b9-e091-7187109fb497"
      },
      "outputs": [
        {
          "name": "stdout",
          "output_type": "stream",
          "text": [
            "Matrix 1: [[1, 1], [1, 1]]\n",
            "Matrix 2: [[2, 2], [2, 2]]\n",
            "Matrix Multiplication:\n",
            "[4, 4]\n",
            "[4, 4]\n"
          ]
        }
      ],
      "source": [
        "A=[[1,1],[1,1]]\n",
        "B=[[2,2],[2,2]]\n",
        "print(\"Matrix 1:\", A)\n",
        "print(\"Matrix 2:\", B)\n",
        "ans=[]\n",
        "for i in range(2):\n",
        "   row=[]\n",
        "   for j in range(2):\n",
        "      row.append(0)\n",
        "   ans.append(row)\n",
        "print(\"Matrix Multiplication:\")\n",
        "for i in range(2):\n",
        "   for j in range(2):\n",
        "      for k in range(2):\n",
        "         ans[i][j]+=A[i][k]*B[k][j]\n",
        "for row in ans:\n",
        "   print(row)"
      ]
    },
    {
      "cell_type": "markdown",
      "metadata": {
        "id": "K4kYM1O06XSC"
      },
      "source": [
        "2. WAP to add two matrices:\n",
        "Input:\n",
        "A = [[1,1], [1,1]]\n",
        "B = [[2,2], [2,2]]\n",
        "Output:\n",
        "[3, 3]\n",
        "[3, 3]"
      ]
    },
    {
      "cell_type": "code",
      "execution_count": null,
      "metadata": {
        "colab": {
          "base_uri": "https://localhost:8080/"
        },
        "id": "tm5g_spD6ZLv",
        "outputId": "f266094e-8108-472b-ff5e-0126cc5acf8a"
      },
      "outputs": [
        {
          "name": "stdout",
          "output_type": "stream",
          "text": [
            "Matrix 1: [[1, 1], [1, 1]]\n",
            "Matrix 2: [[2, 2], [2, 2]]\n",
            "Matrix Addition:\n",
            "[3, 3]\n",
            "[3, 3]\n"
          ]
        }
      ],
      "source": [
        "A=[[1,1],[1,1]]\n",
        "B=[[2,2],[2,2]]\n",
        "print(\"Matrix 1:\", A)\n",
        "print(\"Matrix 2:\", B)\n",
        "ans = []\n",
        "for i in range(2):\n",
        "   row = []\n",
        "   for j in range(2):\n",
        "      row.append(0)\n",
        "   ans.append(row)\n",
        "print(\"Matrix Addition:\")\n",
        "for i in range(2):\n",
        "   for j in range(2):\n",
        "         ans[i][j]+=A[i][j]+B[i][j]\n",
        "for row in ans:\n",
        "   print(row)"
      ]
    }
  ],
  "metadata": {
    "colab": {
      "collapsed_sections": [],
      "provenance": []
    },
    "kernelspec": {
      "display_name": "Python 3.10.1 64-bit",
      "language": "python",
      "name": "python3"
    },
    "language_info": {
      "name": "python",
      "version": "3.10.1"
    },
    "vscode": {
      "interpreter": {
        "hash": "ec1f4382e1796e4aca30cabb0ec51fac13e74831d675e5f70d6623b69632e3ed"
      }
    }
  },
  "nbformat": 4,
  "nbformat_minor": 0
}
