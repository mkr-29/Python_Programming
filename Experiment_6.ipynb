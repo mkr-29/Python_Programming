{
  "cells": [
    {
      "cell_type": "markdown",
      "metadata": {
        "id": "QJ7DWYzsYwgJ"
      },
      "source": [
        "Experiment 6"
      ]
    },
    {
      "cell_type": "markdown",
      "metadata": {
        "id": "UGEitrSDYzfe"
      },
      "source": [
        "1. Write a Python program to get the difference between a given number and 17, if the number is greater than 17 return double the absolute difference. "
      ]
    },
    {
      "cell_type": "code",
      "execution_count": null,
      "metadata": {
        "colab": {
          "base_uri": "https://localhost:8080/"
        },
        "id": "ZnDieOcvYtx_",
        "outputId": "3167eab8-54d0-4294-dba1-43cbad76d804"
      },
      "outputs": [
        {
          "name": "stdout",
          "output_type": "stream",
          "text": [
            "Enter a number:35\n",
            "36.0\n"
          ]
        }
      ],
      "source": [
        "n=float(input(\"Enter a number:\"))\n",
        "if(n<=17):\n",
        "  print(17-n)\n",
        "else:\n",
        "  print((n-17)*2)"
      ]
    },
    {
      "cell_type": "markdown",
      "metadata": {
        "id": "nAqv3lyebWeW"
      },
      "source": [
        "2.Write a Python program to test whether a number is within 100 of 1000 or 2000."
      ]
    },
    {
      "cell_type": "code",
      "execution_count": null,
      "metadata": {
        "colab": {
          "base_uri": "https://localhost:8080/"
        },
        "id": "Aod42khUbZyj",
        "outputId": "ccc4ef9b-83fd-4baf-c579-1c9fb0ebbd92"
      },
      "outputs": [
        {
          "name": "stdout",
          "output_type": "stream",
          "text": [
            "Enter a number:2101\n",
            "The number is not within 100 of 1000 or 2000.\n"
          ]
        }
      ],
      "source": [
        "n=float(input(\"Enter a number:\"))\n",
        "if(abs(1000-n)<=100) or (abs(2000-n)<=100):\n",
        "  print(\"The number is within 100 of 1000 or 2000.\")\n",
        "else:\n",
        "  print(\"The number is not within 100 of 1000 or 2000.\")"
      ]
    },
    {
      "cell_type": "markdown",
      "metadata": {
        "id": "-8rk0G4-d674"
      },
      "source": [
        "3. Write a Python program to check whether a specified value is contained in a group of values. \n",
        "Test Data :\n",
        "3 -> [1, 5, 8, 3] : True\n",
        "-1 -> [1, 5, 8, 3] : False"
      ]
    },
    {
      "cell_type": "code",
      "execution_count": null,
      "metadata": {
        "colab": {
          "base_uri": "https://localhost:8080/"
        },
        "id": "MxU0Tr0ed_sf",
        "outputId": "ac73e4e5-2f24-4468-bb69-1780882d721a"
      },
      "outputs": [
        {
          "name": "stdout",
          "output_type": "stream",
          "text": [
            "Enter number of elements : 5\n",
            "4\n",
            "6\n",
            "2\n",
            "1\n",
            "7\n",
            "Enter the number to be searched:2\n",
            "True\n"
          ]
        }
      ],
      "source": [
        "list=[]\n",
        "n=int(input(\"Enter number of elements : \"))\n",
        "for i in range(0,n):\n",
        "\tnum=int(input())\n",
        "\tlist.append(num)\n",
        "a=int(input(\"Enter the number to be searched:\"))\n",
        "t=0\n",
        "for i in range(0,n):\n",
        "  if(list[i]==a):\n",
        "    print(\"True\")\n",
        "    t=1\n",
        "    break\n",
        "if(t!=1):\n",
        "  print(\"False\")"
      ]
    },
    {
      "cell_type": "markdown",
      "metadata": {
        "id": "IOXOp7_SiXCf"
      },
      "source": [
        "4. Write a program that accepts the lengths of three sides of a triangle as inputs. The program output should indicate whether or not the triangle is an equilateral triangle."
      ]
    },
    {
      "cell_type": "code",
      "execution_count": null,
      "metadata": {
        "colab": {
          "base_uri": "https://localhost:8080/"
        },
        "id": "d6Xh7c_0iZL-",
        "outputId": "193550ef-c580-462f-896c-ffa09603c09b"
      },
      "outputs": [
        {
          "name": "stdout",
          "output_type": "stream",
          "text": [
            "Enter the lenght of 1st side of a triangle:5\n",
            "Enter the lenght of 2nd side of a triangle:9\n",
            "Enter the lenght of 3rd side of a triangle:4\n",
            "The triangle is not equilateral.\n"
          ]
        }
      ],
      "source": [
        "side_1=float(input(\"Enter the lenght of 1st side of a triangle:\"))\n",
        "side_2=float(input(\"Enter the lenght of 2nd side of a triangle:\"))\n",
        "side_3=float(input(\"Enter the lenght of 3rd side of a triangle:\"))\n",
        "if(side_1==side_2 and side_2==side_3):\n",
        "  print(\"The triangle is eqilateral.\")\n",
        "else:\n",
        "  print(\"The triangle is not equilateral.\")"
      ]
    }
  ],
  "metadata": {
    "colab": {
      "provenance": []
    },
    "kernelspec": {
      "display_name": "Python 3",
      "name": "python3"
    },
    "language_info": {
      "name": "python"
    }
  },
  "nbformat": 4,
  "nbformat_minor": 0
}
