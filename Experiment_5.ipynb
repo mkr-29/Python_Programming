{
  "cells": [
    {
      "cell_type": "markdown",
      "metadata": {
        "id": "5vCZn11VE82z"
      },
      "source": [
        "Experiment 5"
      ]
    },
    {
      "cell_type": "markdown",
      "metadata": {
        "id": "gMT7XkyXFHZM"
      },
      "source": [
        "1. Explain all python operators with the help of an example."
      ]
    },
    {
      "cell_type": "code",
      "execution_count": null,
      "metadata": {
        "colab": {
          "base_uri": "https://localhost:8080/"
        },
        "id": "BrGAPZ4zE5Cn",
        "outputId": "2f634f9a-a120-4c6c-9822-8d73b1b46309"
      },
      "outputs": [
        {
          "name": "stdout",
          "output_type": "stream",
          "text": [
            "Value of a: 46\n",
            "Value of b: 12\n",
            "Value of c: 2\n",
            "Value of b after c+=b: 14\n",
            "Value of a after a-=b: 34\n",
            "Value of c after c*=2: 28\n",
            "Value of a after a/=b: 17.0\n",
            "Value of c after c%=2: 1\n",
            "Value of b after b//=2: 6\n",
            "Value of b after b**=2: 216\n",
            "a+b= 233.0\n",
            "a-b= -199.0\n",
            "a*b= 3672.0\n",
            "a/2= 8.5\n",
            "a%b= 1.0\n",
            "a**2= 289.0\n",
            "a//b= 8.0\n",
            "a==c: False\n",
            "a!=b True\n",
            "a>b False\n",
            "a<b True\n",
            "a<b False\n",
            "a<b True\n",
            "True and False: False\n",
            "True or False: True\n",
            "not(True): False\n",
            "1 is 10: False\n",
            "1 is not 10: True\n",
            "List:\n",
            "1 in list: True\n",
            "1 not in list: False\n",
            "1 & 2: 0\n",
            "1 | 2: 3\n",
            "1 ^ 2: 3\n"
          ]
        }
      ],
      "source": [
        "#Assignment Operator\n",
        "a=46\n",
        "print(\"Value of a:\",a)\n",
        "b=12\n",
        "print(\"Value of b:\",b)\n",
        "c=2\n",
        "print(\"Value of c:\",c)\n",
        "c+=b\n",
        "print(\"Value of b after c+=b:\",c)\n",
        "a-=b\n",
        "print(\"Value of a after a-=b:\",a)\n",
        "c*=2\n",
        "print(\"Value of c after c*=2:\",c)\n",
        "a/=2\n",
        "print(\"Value of a after a/=b:\",a)\n",
        "c%=3\n",
        "print(\"Value of c after c%=2:\",c)\n",
        "b//=2\n",
        "print(\"Value of b after b//=2:\",b)\n",
        "b**=3\n",
        "print(\"Value of b after b**=2:\",b)\n",
        "#Arithmatic Operators\n",
        "print(\"a+b=\",a+b)\n",
        "print(\"a-b=\",a-b)\n",
        "print(\"a*b=\",a*b)\n",
        "print(\"a/2=\",a/2)\n",
        "print(\"a%b=\",a%2)\n",
        "print(\"a**2=\",a**2)\n",
        "print(\"a//b=\",a//2)\n",
        "#Comparison Operators\n",
        "print(\"a==c:\",a==c)\n",
        "print(\"a!=b\",a!=b)\n",
        "print(\"a>b\",a>b)\n",
        "print(\"a<b\",a<b)\n",
        "print(\"a<b\",a>=b)\n",
        "print(\"a<b\",a<=b)\n",
        "#Logical Operators\n",
        "print(\"True and False:\",True and False)\n",
        "print(\"True or False:\",True or False)\n",
        "print(\"not(True):\",not(True))\n",
        "#Identity Operators\n",
        "print(\"1 is 10:\",1 is 10)\n",
        "print(\"1 is not 10:\",1 is not 10)\n",
        "#Membership Operators\n",
        "list=[1,2,3,4] #created a list\n",
        "print(\"List:\")\n",
        "print(\"1 in list:\",1 in list)\n",
        "print(\"1 not in list:\",1 not in list)\n",
        "#Bitwise Operator\n",
        "print(\"1 & 2:\", 1 & 2)\n",
        "print(\"1 | 2:\", 1 | 2)\n",
        "print(\"1 ^ 2:\", 1 ^ 2)"
      ]
    },
    {
      "cell_type": "markdown",
      "metadata": {
        "id": "LyOAsQh5FO7D"
      },
      "source": [
        "2. Explain all the operations that can be performed on python dictionaries."
      ]
    },
    {
      "cell_type": "code",
      "execution_count": null,
      "metadata": {
        "colab": {
          "base_uri": "https://localhost:8080/"
        },
        "id": "p0F7LP4YFN3W",
        "outputId": "f938180e-e31f-4a1f-edc0-c0e234127811"
      },
      "outputs": [
        {
          "name": "stdout",
          "output_type": "stream",
          "text": [
            "Empty Dictionary: {}\n",
            "Dictionary dict_1: {1: 'one', 2: 'two', 3: 'three', 4: 'four'}\n",
            "Dictionary dict_2: {'one': 'Hello', 'two': 'World', 4: '!', 3: [1, 2, 4, 5, 8]}\n",
            "Dictionary dict_3: {7: 25, 4: 6, 9: 299}\n",
            "Dictionary dict_4: {1: 'hello', 2: 'bikes'}\n",
            "dict_1[1]: one\n",
            "dict_1.get(2): two\n",
            "dict_1: {1: 26, 2: 'two', 3: 'three', 4: 'four'}\n",
            "dict_1: {1: 26, 2: 'two', 3: 'three', 4: 'four', 6: 654}\n",
            "dict_1.pop(2): two\n",
            "dict_1.popitem(): (6, 654)\n",
            "dict_1.clear(): None\n",
            "dict_1 after copying dict_2 to it: {'one': 'Hello', 'two': 'World', 4: '!', 3: [1, 2, 4, 5, 8]}\n",
            "dict_5: {1: 1, 2: 1, 3: 1, 4: 1, 6: 1, 7: 1}\n",
            "dict_1.items(): dict_items([('one', 'Hello'), ('two', 'World'), (4, '!'), (3, [1, 2, 4, 5, 8])])\n",
            "dict_1.keys(): dict_keys(['one', 'two', 4, 3])\n",
            "dict_1.popitem(): (3, [1, 2, 4, 5, 8])\n",
            "dict_1.update(dict_3): None\n"
          ]
        }
      ],
      "source": [
        "#making dictionaries\n",
        "empty_dict={}\n",
        "print(\"Empty Dictionary:\",empty_dict)\n",
        "dict_1={1:\"one\", 2:\"two\", 3:\"three\", 4:\"four\"}\n",
        "print(\"Dictionary dict_1:\",dict_1)\n",
        "dict_2={\"one\":\"Hello\", \"two\":\"World\", 4:\"!\", 3:[1,2,4,5,8]}\n",
        "print(\"Dictionary dict_2:\",dict_2)\n",
        "dict_3=dict({7:25,4:6,9:299})\n",
        "print(\"Dictionary dict_3:\",dict_3)\n",
        "dict_4=dict([(1,\"hello\"),(2,\"bikes\")])\n",
        "print(\"Dictionary dict_4:\",dict_4)\n",
        "#accessing dictionaries\n",
        "print(\"dict_1[1]:\",dict_1[1])\n",
        "print(\"dict_1.get(2):\",dict_1.get(2))\n",
        "#changing dictionary elements\n",
        "dict_1[1]=26\n",
        "print(\"dict_1:\",dict_1)\n",
        "#adding dictionary elements\n",
        "dict_1[6]=654\n",
        "print(\"dict_1:\",dict_1)\n",
        "#removing elemets from dictionaries\n",
        "print(\"dict_1.pop(2):\",dict_1.pop(2))\n",
        "print(\"dict_1.popitem():\",dict_1.popitem())\n",
        "print(\"dict_1.clear():\",dict_1.clear())\n",
        "del dict_1\n",
        "#copying in dictionaries\n",
        "dict_1=dict_2.copy()\n",
        "print(\"dict_1 after copying dict_2 to it:\",dict_1)\n",
        "#forming keys\n",
        "nums={1,2,4,3,6,7}\n",
        "n=1\n",
        "dict_5=dict.fromkeys(nums,n)\n",
        "print(\"dict_5:\",dict_5)\n",
        "#printing dictionaries\n",
        "print(\"dict_1.items():\",dict_1.items())\n",
        "print(\"dict_1.keys():\",dict_1.keys())\n",
        "print(\"dict_1.popitem():\",dict_1.popitem())\n",
        "three=dict_1.setdefault(\"362\")\n",
        "print(\"dict_1.update(dict_3):\",dict_1.update(dict_3))"
      ]
    }
  ],
  "metadata": {
    "colab": {
      "provenance": []
    },
    "kernelspec": {
      "display_name": "Python 3",
      "name": "python3"
    },
    "language_info": {
      "name": "python"
    }
  },
  "nbformat": 4,
  "nbformat_minor": 0
}
