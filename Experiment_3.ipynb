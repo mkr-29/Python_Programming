{
  "cells": [
    {
      "cell_type": "markdown",
      "metadata": {
        "id": "vi4uOAlt5w5q"
      },
      "source": [
        "Experiment 3"
      ]
    },
    {
      "cell_type": "markdown",
      "metadata": {
        "id": "IQ6jGTk-5zvO"
      },
      "source": [
        "1. Write a Python program which accepts the user's first and last name and print them in reverse order with a space between them. "
      ]
    },
    {
      "cell_type": "code",
      "execution_count": null,
      "metadata": {
        "colab": {
          "base_uri": "https://localhost:8080/"
        },
        "id": "tXFQBMCt5RLj",
        "outputId": "cf8a6899-ad38-4d9a-c4f1-7f645ab854ac"
      },
      "outputs": [
        {
          "name": "stdout",
          "output_type": "stream",
          "text": [
            "Enter your first name:abc\n",
            "Enter your last name:xyz\n",
            "Hello xyz abc\n"
          ]
        }
      ],
      "source": [
        "f_name=input(\"Enter your first name:\")\n",
        "l_name=input(\"Enter your last name:\")\n",
        "print(\"Hello\",l_name,f_name)\n"
      ]
    },
    {
      "cell_type": "markdown",
      "metadata": {
        "id": "_7Z6gw656BMs"
      },
      "source": [
        "2. Write a Python program to display the first and last colors from the following list.\n",
        "color_list = [\"Red\",\"Green\",\"White\" ,\"Black\"]."
      ]
    },
    {
      "cell_type": "code",
      "execution_count": null,
      "metadata": {
        "colab": {
          "base_uri": "https://localhost:8080/"
        },
        "id": "qN--NmDc6C5i",
        "outputId": "b7a7b99f-2832-42da-e440-0f678cd51a7e"
      },
      "outputs": [
        {
          "name": "stdout",
          "output_type": "stream",
          "text": [
            "First color: Red \n",
            "Last color: Black\n"
          ]
        }
      ],
      "source": [
        "color_list = [\"Red\",\"Green\",\"White\" ,\"Black\"]\n",
        "print(\"First color:\",color_list[0],\"\\nLast color:\",color_list[3])"
      ]
    },
    {
      "cell_type": "markdown",
      "metadata": {
        "id": "BYi9ZMGf6Vc1"
      },
      "source": [
        "3. With the help of an example explain all the operations that can be performed on a list."
      ]
    },
    {
      "cell_type": "code",
      "execution_count": null,
      "metadata": {
        "colab": {
          "base_uri": "https://localhost:8080/"
        },
        "id": "ysvccabJ6Xc1",
        "outputId": "2f4d3b55-9acc-44ce-cd74-be278cd6ab89"
      },
      "outputs": [
        {
          "name": "stdout",
          "output_type": "stream",
          "text": [
            "1\n",
            "[1, 'c', 2.7, 'Hello World', 27]\n",
            "[1, 'c', 2.7, 'Hello World', 27, 29, 'CS37', 5.9]\n",
            "[1, 'True', 'c', 2.7, 'Hello World', 27, 29, 'CS37', 5.9]\n",
            "['True', 'c', 2.7, 'Hello World', 27, 29, 'CS37', 5.9]\n",
            "['True', 'c', 2.7, 'Hello World', 27, 29, 'CS37']\n",
            "['True', 'c', 2.7, 'Hello World']\n",
            "['CS37', 29, 27, 'Hello World', 2.7, 'c', 'True']\n",
            "7\n",
            "1\n",
            "8\n",
            "0\n",
            "['CS37', 29, 27, 'Hello World', 2.7, 'c', 'True', 1, 2, 8, 3, 6]\n",
            "[1, 2, 8, 3, 6, 1, 2, 8, 3, 6, 1, 2, 8, 3, 6]\n",
            "4\n",
            "[1, 2, 3, 6, 8]\n",
            "[]\n"
          ]
        }
      ],
      "source": [
        "list=[1,'c',2.7,\"Hello World\"] #a list can store any type of values in it\n",
        "print(list[0]) #prints the 1st element from the list\n",
        "list.append(27) #adds an element to the end of the list\n",
        "print(list) #prits the whole list\n",
        "list.extend([29,\"CS37\",5.9]) #adds multiple ements to the end of the list\n",
        "print(list) #prits the whole list\n",
        "list.insert(1,\"True\") #adds an element at a specific index. 1st argument is the index value and 2nd is the element itself\n",
        "print(list) #prits the whole list\n",
        "list.remove(1)  #removes an element\n",
        "print(list) #prits the whole list\n",
        "list.pop() #removes the last element form the list\n",
        "print(list) #prits the whole list\n",
        "print(list[:4]) #list slicing or printing the list from start to the index value 4\n",
        "list.reverse()  #reverses the list\n",
        "print(list) #prits the whole list\n",
        "print(len(list)) #prints the length of the list\n",
        "list_num=[1,2,8,3,6]  #creating a list\n",
        "print(min(list_num))  #prints the minimum value in the list\n",
        "print(max(list_num))   #prints the maximum value in the list\n",
        "print(list.count(3))  #prints the number of occurances in the list of the element passed in the count function\n",
        "print(list+list_num) #list concatenation\n",
        "print(list_num*3) #list multiplication\n",
        "print(list.index(2.7)) #prints the index of the element passed\n",
        "list_num.sort() #sorts the list\n",
        "print(list_num)\n",
        "list.clear() #clears the whole list\n",
        "print(list) #prints empty list"
      ]
    }
  ],
  "metadata": {
    "colab": {
      "provenance": []
    },
    "kernelspec": {
      "display_name": "Python 3",
      "name": "python3"
    },
    "language_info": {
      "name": "python"
    }
  },
  "nbformat": 4,
  "nbformat_minor": 0
}
