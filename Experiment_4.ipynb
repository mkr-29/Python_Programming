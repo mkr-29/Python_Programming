{
  "cells": [
    {
      "cell_type": "markdown",
      "metadata": {
        "id": "Q8iC3xuTqaXn"
      },
      "source": [
        "EXPERIMENT 4"
      ]
    },
    {
      "cell_type": "markdown",
      "metadata": {},
      "source": [
        "1. Write a Python program to print the documents (syntax, description etc.) of Python built-in function(s).\n",
        "Sample function : abs()\n",
        "Expected Result :\n",
        "abs(number) -> number\n",
        "Return the absolute value of the argument."
      ]
    },
    {
      "cell_type": "code",
      "execution_count": null,
      "metadata": {
        "colab": {
          "base_uri": "https://localhost:8080/"
        },
        "id": "5YAd4i6OVLjS",
        "outputId": "b3abf3f0-7b93-49e9-e6ec-255863c90fa5"
      },
      "outputs": [
        {
          "name": "stdout",
          "output_type": "stream",
          "text": [
            "Enter a valid function to get info:abs\n",
            "Info about:\n",
            " abs\n",
            "Help on built-in function abs in module builtins:\n",
            "\n",
            "abs(x, /)\n",
            "    Return the absolute value of the argument.\n",
            "\n",
            "None\n"
          ]
        }
      ],
      "source": [
        "help_var=input(\"Enter a valid function to get info:\")\n",
        "print(\"Info about:\\n\",help_var)\n",
        "print(help(help_var))"
      ]
    },
    {
      "cell_type": "markdown",
      "metadata": {
        "id": "zg8jiTpKW8mu"
      },
      "source": [
        "2. With the help of an example explain all the operations that can be performed on Tuples and Sets."
      ]
    },
    {
      "cell_type": "code",
      "execution_count": null,
      "metadata": {
        "colab": {
          "base_uri": "https://localhost:8080/"
        },
        "id": "jvHJKdw1W_fT",
        "outputId": "94ba7658-8b41-4a5f-f651-252a3d9c6195"
      },
      "outputs": [
        {
          "name": "stdout",
          "output_type": "stream",
          "text": [
            "Tuple created is: ('Hello', 'rage', 'call of duty', 28)\n",
            "Element at index 1 in the tuple tup_1 is: rage\n",
            "tup_2 is(empty): ()\n",
            "tup_3 is: <class 'tuple'>\n",
            "tup_4 is: <class 'int'>\n",
            "Tuple tup_1[1:3] is: ('rage', 'call of duty')\n",
            "tup_2 after modification: (1, 2, 3, 4, 5, 6)\n",
            "tup_3 after adding tup_1+tup_2 in it: ('Hello', 'rage', 'call of duty', 28, 1, 2, 3, 4, 5, 6)\n",
            "tup_2 after multiplying it with 2: (1, 2, 3, 4, 5, 6, 1, 2, 3, 4, 5, 6)\n",
            "Checking if 10 is there in tup_3: False\n",
            "Checking if 6 is there in tup_3: True\n",
            "Checking if 10 is not there in tup_3: True\n",
            "Checking if 6 is not there in tup_3: False\n",
            "Max in tup_2 is: 6\n",
            "Min in tup_2 is: 1\n",
            "Index of 4 in tup_2 is: 3\n",
            "No. of occurances of 2 in tup_2 is: 1\n",
            "Type of not_a_tuple: <class 'str'>\n",
            "Type of not_a_tuple after conversion: <class 'tuple'>\n",
            "Elements in not_a_tuple: ('P', 'y', 't', 'h', 'o', 'n')\n",
            "Type of list: <class 'list'>\n",
            "Type of not_a_list: <class 'tuple'>\n"
          ]
        }
      ],
      "source": [
        "#TUPLES\n",
        "#creating a tuple:\n",
        "# a tuple may contain any data type values:\n",
        "tup_1=(\"Hello\",\"rage\",\"call of duty\",28)\n",
        "print(\"Tuple created is:\",tup_1)\n",
        "print(\"Element at index 1 in the tuple tup_1 is:\",tup_1[1])\n",
        "#creating an empty tuple:\n",
        "tup_2=()\n",
        "print(\"tup_2 is(empty):\",tup_2)\n",
        "tup_3=(1,) #is a tuple\n",
        "print(\"tup_3 is:\",type(tup_3))\n",
        "tup_4=(1) # whereas tup_4=(1) is an integer and not a tuple\n",
        "print(\"tup_4 is:\",type(tup_4))\n",
        "#tuple slicing\n",
        "print(\"Tuple tup_1[1:3] is:\",tup_1[1:3])\n",
        "#modifying tup_2\n",
        "tup_2=(1,2,3,4,5,6)\n",
        "print(\"tup_2 after modification:\",tup_2)\n",
        "#tuple concatenation\n",
        "tup_3=tup_1+tup_2\n",
        "print(\"tup_3 after adding tup_1+tup_2 in it:\",tup_3)\n",
        "#tuple multiplication\n",
        "print(\"tup_2 after multiplying it with 2:\",tup_2*2)\n",
        "#checking\n",
        "print(\"Checking if 10 is there in tup_3:\",10 in tup_3)\n",
        "print(\"Checking if 6 is there in tup_3:\",6 in tup_3)\n",
        "print(\"Checking if 10 is not there in tup_3:\",10 not in tup_3)\n",
        "print(\"Checking if 6 is not there in tup_3:\",6 not in tup_3)\n",
        "#min max\n",
        "print(\"Max in tup_2 is:\",max(tup_2))\n",
        "print(\"Min in tup_2 is:\",min(tup_2))\n",
        "#index\n",
        "print(\"Index of 4 in tup_2 is:\",tup_2.index(4))\n",
        "#count\n",
        "print(\"No. of occurances of 2 in tup_2 is:\",tup_2.count(2))\n",
        "#conversion to tuple\n",
        "not_a_tuple=\"Python\"\n",
        "print(\"Type of not_a_tuple:\",type(not_a_tuple))\n",
        "not_a_tuple=tuple(not_a_tuple)\n",
        "print(\"Type of not_a_tuple after conversion:\",type(not_a_tuple))\n",
        "print(\"Elements in not_a_tuple:\",not_a_tuple)\n",
        "list=[\"c++\",1,27.6,\"char\"] #creating a list\n",
        "print(\"Type of list:\",type(list))\n",
        "not_a_list=tuple(list)\n",
        "print(\"Type of not_a_list:\",type(not_a_list))"
      ]
    },
    {
      "cell_type": "code",
      "execution_count": null,
      "metadata": {
        "colab": {
          "base_uri": "https://localhost:8080/"
        },
        "id": "-gfNrsAijK78",
        "outputId": "f4626b95-ffe5-426c-efd1-d3387ec7710b"
      },
      "outputs": [
        {
          "name": "stdout",
          "output_type": "stream",
          "text": [
            "Type of set_1 is: <class 'tuple'>\n",
            "Set created is: ('Rage', True, 17.6, 28)\n",
            "Element at index 1 in the set set_1 is: True\n",
            "Type of set_2 is: <class 'dict'>\n",
            "Type of set_3: <class 'set'>\n",
            "set_3 is(empty): set()\n",
            "set_3 after adding elements to it: {40, 50, 20, 30}\n",
            "set_3 after updating: {True, 40, 17.6, 50, 20, 'Rage', 28, 30}\n",
            "set_3 after discarding 50 from it: {True, 40, 17.6, 'Rage', 28, 30}\n",
            "set_3 after clear(): set()\n",
            "Max in set_4 is: 9\n",
            "Min in set_4 is: 1\n",
            "Sum of all the elements in the set_4 is: 24\n",
            "Checking if set_5 is a subset of set_4: True\n",
            "Checking if set_4 is a superset of set_5: True\n",
            "Union of set_6 and set_4: {1, 546, 3, 5, 6, 23, 9}\n",
            "Intersection of set_5 and set_4: {1, 3, 5}\n",
            "After subtracting set_5 from set_4: {9, 6}\n",
            "set_4 after sorting: [1, 3, 5, 6, 9]\n"
          ]
        }
      ],
      "source": [
        "#SETS\n",
        "#creating a set:\n",
        "# a set may contain any data type values:\n",
        "set_1=(\"Rage\",True,17.6,28)\n",
        "print(\"Type of set_1 is:\",type(set_1))\n",
        "print(\"Set created is:\",set_1)\n",
        "print(\"Element at index 1 in the set set_1 is:\",set_1[1])\n",
        "#creating an empty set:\n",
        "set_2={} #is a dctionary\n",
        "print(\"Type of set_2 is:\",type(set_2))\n",
        "set_3=set() #empty set\n",
        "print(\"Type of set_3:\",type(set_3))\n",
        "print(\"set_3 is(empty):\",set_3)\n",
        "#adding an elemet to a set:\n",
        "set_3.add(20)\n",
        "set_3.add(30)\n",
        "set_3.add(40)\n",
        "set_3.add(50)\n",
        "print(\"set_3 after adding elements to it:\",set_3)\n",
        "#updating a set:\n",
        "set_3.update(set_1)\n",
        "print(\"set_3 after updating:\",set_3)\n",
        "#removing from a set\n",
        "set_3.remove(20)\n",
        "#discarding from a set\n",
        "set_3.discard(50)\n",
        "print(\"set_3 after discarding 50 from it:\",set_3)\n",
        "#popping from a set\n",
        "set_3.pop()\n",
        "#clearing a set\n",
        "set_3.clear()\n",
        "print(\"set_3 after clear():\",set_3)\n",
        "#max min\n",
        "set_4={1,5,6,3,9}\n",
        "print(\"Max in set_4 is:\",max(set_4))\n",
        "print(\"Min in set_4 is:\",min(set_4))\n",
        "#sum()\n",
        "print(\"Sum of all the elements in the set_4 is:\",sum(set_4))\n",
        "#issubset()\n",
        "set_5={1,3,5}\n",
        "print(\"Checking if set_5 is a subset of set_4:\",set_5.issubset(set_4))\n",
        "#issuperset()\n",
        "print(\"Checking if set_4 is a superset of set_5:\",set_4.issuperset(set_5))\n",
        "#union()\n",
        "set_6={23,546}\n",
        "print(\"Union of set_6 and set_4:\",set_4.union(set_6))\n",
        "#intersection()\n",
        "print(\"Intersection of set_5 and set_4:\",set_5.intersection(set_4))\n",
        "#difference()\n",
        "print(\"After subtracting set_5 from set_4:\",set_4.difference(set_5))\n",
        "#sorting\n",
        "print(\"set_4 after sorting:\",sorted(set_4))"
      ]
    }
  ],
  "metadata": {
    "colab": {
      "provenance": []
    },
    "kernelspec": {
      "display_name": "Python 3",
      "name": "python3"
    },
    "language_info": {
      "name": "python"
    }
  },
  "nbformat": 4,
  "nbformat_minor": 0
}
