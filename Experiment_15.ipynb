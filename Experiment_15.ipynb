{
  "cells": [
    {
      "cell_type": "markdown",
      "metadata": {
        "id": "kq5tUmX4P0NT"
      },
      "source": [
        "Experiment 15"
      ]
    },
    {
      "cell_type": "markdown",
      "metadata": {
        "id": "NZUi7qLDP57S"
      },
      "source": [
        "1. Write a Python Program to show the usage of multiple decorators to a single function."
      ]
    },
    {
      "cell_type": "code",
      "execution_count": null,
      "metadata": {
        "colab": {
          "base_uri": "https://localhost:8080/"
        },
        "id": "eiNxwym7Pxw6",
        "outputId": "d6980198-d19f-4be2-f876-32d033b3f90c"
      },
      "outputs": [
        {
          "name": "stdout",
          "output_type": "stream",
          "text": [
            "--------------------------------------------------\n",
            "**************************************************\n",
            "Sum of  324  and  234546  is:  234870\n",
            "**************************************************\n",
            "--------------------------------------------------\n"
          ]
        }
      ],
      "source": [
        "def decor1(func):\n",
        "  def wrap(a,b):\n",
        "    print(\"-\" * 50)\n",
        "    func(a,b)\n",
        "    print(\"-\" * 50)\n",
        "  return wrap\n",
        "\n",
        "def decor2(func):\n",
        "  def wrap(a,b):\n",
        "    print(\"*\" * 50)\n",
        "    func(a,b)\n",
        "    print(\"*\" * 50)\n",
        "  return wrap\n",
        "\n",
        "@decor1\n",
        "@decor2\n",
        "def sum(a,b):\n",
        "  print(\"Sum of \",a,\" and \",b,\" is: \",a+b)\n",
        "\n",
        "sum(324,234546)"
      ]
    },
    {
      "cell_type": "markdown",
      "metadata": {
        "id": "C-3PvChNUNyR"
      },
      "source": [
        "2. Write a Python program to get an array buffer information Expected Output: Array buffer start address in memory and number of elements. (25855056, 2)"
      ]
    },
    {
      "cell_type": "code",
      "execution_count": null,
      "metadata": {
        "colab": {
          "base_uri": "https://localhost:8080/"
        },
        "id": "r5TyymzjUPa3",
        "outputId": "52910615-9dd2-4c45-cbac-5793664089f2"
      },
      "outputs": [
        {
          "name": "stdout",
          "output_type": "stream",
          "text": [
            "Array buffer start address in memory and number of elements.\n",
            "(140629644861584, 2)\n"
          ]
        }
      ],
      "source": [
        "from array import array\n",
        "a = array(\"d\", (12,25))\n",
        "print(\"Array buffer start address in memory and number of elements.\")\n",
        "print(a.buffer_info())"
      ]
    },
    {
      "cell_type": "markdown",
      "metadata": {
        "id": "2LcQ1mVXWEFp"
      },
      "source": [
        "3. Write a Python Program to show the usage of single decorator to multiple functions."
      ]
    },
    {
      "cell_type": "code",
      "execution_count": null,
      "metadata": {
        "colab": {
          "base_uri": "https://localhost:8080/"
        },
        "id": "l7vQRNkBWGPR",
        "outputId": "88faa7ee-1b95-41a3-8aae-f57f75e2f3e2"
      },
      "outputs": [
        {
          "name": "stdout",
          "output_type": "stream",
          "text": [
            "************\n",
            "Hello World\n",
            "************\n",
            "************\n",
            "Python is a programming language.\n",
            "************\n"
          ]
        }
      ],
      "source": [
        "def decor1(func):\n",
        "  def wrap():\n",
        "    print(\"************\")\n",
        "    func()\n",
        "    print(\"************\")\n",
        "  return wrap\n",
        "\n",
        "@decor1\n",
        "def pri_hello():\n",
        "  print(\"Hello World\")\n",
        "\n",
        "@decor1\n",
        "def pri_python():\n",
        "  print(\"Python is a programming language.\")\n",
        "\n",
        "pri_hello()\n",
        "pri_python()"
      ]
    }
  ],
  "metadata": {
    "colab": {
      "provenance": []
    },
    "kernelspec": {
      "display_name": "Python 3.10.1 64-bit",
      "language": "python",
      "name": "python3"
    },
    "language_info": {
      "name": "python",
      "version": "3.10.1"
    },
    "vscode": {
      "interpreter": {
        "hash": "ec1f4382e1796e4aca30cabb0ec51fac13e74831d675e5f70d6623b69632e3ed"
      }
    }
  },
  "nbformat": 4,
  "nbformat_minor": 0
}
