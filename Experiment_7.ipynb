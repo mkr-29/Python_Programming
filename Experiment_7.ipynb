{
  "cells": [
    {
      "cell_type": "markdown",
      "metadata": {
        "id": "FtBshILhBNYx"
      },
      "source": [
        "Print the following patterns:\n",
        "Pattern 1:\n",
        "1\n",
        "2 2\n",
        "3 3 3\n",
        "4 4 4 4\n",
        "5 5 5 5 5"
      ]
    },
    {
      "cell_type": "code",
      "execution_count": null,
      "metadata": {
        "colab": {
          "base_uri": "https://localhost:8080/"
        },
        "id": "aex8LvXv-H_2",
        "outputId": "5e69eeb5-915c-414b-8c0d-d6bdb06b8a18"
      },
      "outputs": [
        {
          "name": "stdout",
          "output_type": "stream",
          "text": [
            "1 \n",
            "2 2 \n",
            "3 3 3 \n",
            "4 4 4 4 \n",
            "5 5 5 5 5 \n"
          ]
        }
      ],
      "source": [
        "for i in range (1,6):\n",
        "  for j in range (0,i):\n",
        "    print(i, end=\" \")\n",
        "  print(\"\")"
      ]
    },
    {
      "cell_type": "markdown",
      "metadata": {
        "id": "qM-ES0M2BSiH"
      },
      "source": [
        "Pattern 2:\n",
        "1 1 1 1 1\n",
        "2 2 2 2\n",
        "3 3 3\n",
        "4 4\n",
        "5"
      ]
    },
    {
      "cell_type": "code",
      "execution_count": null,
      "metadata": {
        "colab": {
          "base_uri": "https://localhost:8080/"
        },
        "id": "wOKzZWSP__PP",
        "outputId": "33a495c9-58e3-4543-ab34-f8cf48017c8c"
      },
      "outputs": [
        {
          "name": "stdout",
          "output_type": "stream",
          "text": [
            "1 1 1 1 1 \n",
            "2 2 2 2 \n",
            "3 3 3 \n",
            "4 4 \n",
            "5 \n"
          ]
        }
      ],
      "source": [
        "for i in range (1,6):\n",
        "  for j in range (i,6):\n",
        "    print(i, end=\" \")\n",
        "  print(\"\")"
      ]
    },
    {
      "cell_type": "markdown",
      "metadata": {
        "id": "9jM0cZF-BU22"
      },
      "source": [
        "Pattern 3:\n",
        "1\n",
        "1 2\n",
        "1 2 3\n",
        "1 2 3 4\n",
        "1 2 3 4 5"
      ]
    },
    {
      "cell_type": "code",
      "execution_count": null,
      "metadata": {
        "id": "ObjunDdhBLCa"
      },
      "outputs": [],
      "source": []
    },
    {
      "cell_type": "code",
      "execution_count": null,
      "metadata": {
        "colab": {
          "base_uri": "https://localhost:8080/"
        },
        "id": "jTnXWatCARTZ",
        "outputId": "34338c66-279f-40aa-8279-ef9a39f1b782"
      },
      "outputs": [
        {
          "name": "stdout",
          "output_type": "stream",
          "text": [
            "1 \n",
            "1 2 \n",
            "1 2 3 \n",
            "1 2 3 4 \n",
            "1 2 3 4 5 \n"
          ]
        }
      ],
      "source": [
        "for i in range (1,6):\n",
        "  for j in range (1,i+1):\n",
        "    print(j, end=\" \")\n",
        "  print(\"\")"
      ]
    },
    {
      "cell_type": "markdown",
      "metadata": {
        "id": "8BcGccccBWxW"
      },
      "source": [
        "Pattern 4:\n",
        "5 5 5 5 5\n",
        "4 4 4 4\n",
        "3 3 3\n",
        "2 2\n",
        "1"
      ]
    },
    {
      "cell_type": "code",
      "execution_count": null,
      "metadata": {
        "colab": {
          "base_uri": "https://localhost:8080/"
        },
        "id": "JOo4pVYoBAUS",
        "outputId": "f9ad8f4d-6968-4ab6-c4fb-aacec9c8550f"
      },
      "outputs": [
        {
          "name": "stdout",
          "output_type": "stream",
          "text": [
            "5 5 5 5 5 \n",
            "4 4 4 4 \n",
            "3 3 3 \n",
            "2 2 \n",
            "1 \n"
          ]
        }
      ],
      "source": [
        "a=5\n",
        "for i in range (1,6):\n",
        "  for j in range (i,6):\n",
        "    print(a, end=\" \")\n",
        "  print(\"\")\n",
        "  a-=1"
      ]
    },
    {
      "cell_type": "markdown",
      "metadata": {
        "id": "G1cVglDgBZsr"
      },
      "source": [
        "Pattern 5:\n",
        "5 5 5 5 5\n",
        "5 5 5 5\n",
        "5 5 5\n",
        "5 5\n",
        "5"
      ]
    },
    {
      "cell_type": "code",
      "execution_count": null,
      "metadata": {
        "colab": {
          "base_uri": "https://localhost:8080/"
        },
        "id": "SpDTNWOdBlxK",
        "outputId": "d7db1d64-2e4d-4d83-b589-60c2dab6c75a"
      },
      "outputs": [
        {
          "name": "stdout",
          "output_type": "stream",
          "text": [
            "5 5 5 5 5 \n",
            "5 5 5 5 \n",
            "5 5 5 \n",
            "5 5 \n",
            "5 \n"
          ]
        }
      ],
      "source": [
        "for i in range (1,6):\n",
        "  for j in range (i,6):\n",
        "    print(5, end=\" \")\n",
        "  print(\"\")"
      ]
    }
  ],
  "metadata": {
    "colab": {
      "collapsed_sections": [],
      "provenance": []
    },
    "kernelspec": {
      "display_name": "Python 3",
      "name": "python3"
    },
    "language_info": {
      "name": "python"
    }
  },
  "nbformat": 4,
  "nbformat_minor": 0
}
