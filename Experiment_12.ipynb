{
  "cells": [
    {
      "cell_type": "markdown",
      "metadata": {
        "id": "TKeRArXVlBc4"
      },
      "source": [
        "Experiment 12"
      ]
    },
    {
      "cell_type": "markdown",
      "metadata": {
        "id": "XrJ3mtRtlLX-"
      },
      "source": [
        "1. Write a Python Program to find the sum of a Series 1/1! + 2/2! +3/3! + 4/4! +……. + n/n!"
      ]
    },
    {
      "cell_type": "code",
      "execution_count": null,
      "metadata": {
        "colab": {
          "base_uri": "https://localhost:8080/"
        },
        "id": "siqdNLTzlAeX",
        "outputId": "519c37e9-6a14-4cce-a2b1-9d4a42cd28fa"
      },
      "outputs": [
        {
          "name": "stdout",
          "output_type": "stream",
          "text": [
            "Enter a number:4\n",
            "Sum of the series: 2.6666666666666665\n"
          ]
        }
      ],
      "source": [
        "def fact(n):\n",
        "  fact=1\n",
        "  for i in range(1,n+1):\n",
        "    fact=fact*i\n",
        "  return fact\n",
        "\n",
        "n=int(input(\"Enter a number:\"))\n",
        "ser=0\n",
        "for i in range(1,n+1):\n",
        "  ser=ser+i/fact(i)\n",
        "print(\"Sum of the series:\",ser)"
      ]
    },
    {
      "cell_type": "markdown",
      "metadata": {
        "id": "5eJq0ZM_oG3c"
      },
      "source": [
        "2. Show that the outputs of functions Filter, Map and Reduce can be obtained using List Comprehension."
      ]
    },
    {
      "cell_type": "code",
      "execution_count": null,
      "metadata": {
        "colab": {
          "base_uri": "https://localhost:8080/"
        },
        "id": "YX9WA48aoIyV",
        "outputId": "f78e3e94-0b06-4760-cc94-f775d89c8208"
      },
      "outputs": [
        {
          "name": "stdout",
          "output_type": "stream",
          "text": [
            "[1, 2, 3, 4, 5, 6, 7]\n",
            "[3, 4]\n",
            "21\n"
          ]
        }
      ],
      "source": [
        "list_1 = [0,1,2,3,4,5,6]\n",
        "map_1=map(lambda x: x+1,list_1)\n",
        "print(list(map_1))\n",
        "filter_1=filter(lambda x: x>2 and x<5,list_1)\n",
        "print(list(filter_1))\n",
        "reduce_1=reduce(lambda x,y: x+y,list_1)\n",
        "print(reduce_1)"
      ]
    },
    {
      "cell_type": "markdown",
      "metadata": {
        "id": "agNv70lEpIp3"
      },
      "source": [
        "3. Write a Python program to display the current date and time."
      ]
    },
    {
      "cell_type": "code",
      "execution_count": null,
      "metadata": {
        "colab": {
          "base_uri": "https://localhost:8080/"
        },
        "id": "X2pDX-PYpJSA",
        "outputId": "cab595bf-1d58-48c8-f2fa-c4b16fcb6b6f"
      },
      "outputs": [
        {
          "name": "stdout",
          "output_type": "stream",
          "text": [
            "2022-09-02 10:14:23.722958\n"
          ]
        }
      ],
      "source": [
        "from datetime import datetime\n",
        "print(datetime.now())"
      ]
    }
  ],
  "metadata": {
    "colab": {
      "provenance": []
    },
    "kernelspec": {
      "display_name": "Python 3.10.1 64-bit",
      "language": "python",
      "name": "python3"
    },
    "language_info": {
      "name": "python",
      "version": "3.10.1"
    },
    "vscode": {
      "interpreter": {
        "hash": "ec1f4382e1796e4aca30cabb0ec51fac13e74831d675e5f70d6623b69632e3ed"
      }
    }
  },
  "nbformat": 4,
  "nbformat_minor": 0
}
