{
  "cells": [
    {
      "cell_type": "markdown",
      "metadata": {
        "id": "1VZEdTlImf0x"
      },
      "source": [
        "Experiment 20"
      ]
    },
    {
      "cell_type": "markdown",
      "metadata": {
        "id": "B-_NlGT2mjMf"
      },
      "source": [
        "1. Write a program to know the cursor position and print the text according to below-"
      ]
    },
    {
      "cell_type": "markdown",
      "metadata": {
        "id": "t-jyWwHzm8Ih"
      },
      "source": [
        "Creating a sample text file named: Text.txt\n",
        "\n",
        "Writing to Text.txt:\n",
        "It's not only writers who can benefit from this free online tool. If you're a programmer who's working on a project where blocks of text are needed, this tool can be a great way to get that. It's a good way to test your programming and that the tool being created is working well.\n",
        "\n",
        "Above are a few examples of how the random paragraph generator can be beneficial. The best way to see if this random paragraph picker will be useful for your intended purposes is to give it a try. Generate a number of paragraphs to see if they are beneficial to your current project.\n",
        "\n",
        "If you do find this paragraph tool useful, please do us a favor and let us know how you're using it. It's greatly beneficial for us to know the different ways this tool is being used so we can improve it with updates. This is especially true since there are times when the generators we create get used in completely unanticipated ways from when we initially created them. If you have the time, please send us a quick note on what you'd like to see changed or added to make it better in the future."
      ]
    },
    {
      "cell_type": "code",
      "execution_count": null,
      "metadata": {
        "id": "DtKyPoO8ma__"
      },
      "outputs": [],
      "source": [
        "f=open(\"Text.txt\",\"w\")\n",
        "f.write(\"It's not only writers who can benefit from this free online tool. If you're a programmer who's working on a project where blocks of text are needed, this tool can be a great way to get that. It's a good way to test your programming and that the tool being created is working well.\\n\")\n",
        "f.write(\"Above are a few examples of how the random paragraph generator can be beneficial. The best way to see if this random paragraph picker will be useful for your intended purposes is to give it a try. Generate a number of paragraphs to see if they are beneficial to your current project.\\n\")\n",
        "f.write(\"If you do find this paragraph tool useful, please do us(5456464646) a favor and let us know how you're using it. It's greatly beneficial for us to know the different ways this tool is being used so we can improve it with updates. This is especially true since there are times when the generators we create get used in completely unanticipated ways from when we initially created them. If you have the time, please send us a quick note on what you'd like to see changed or added to make it better in the future.\")\n",
        "f.close()"
      ]
    },
    {
      "cell_type": "markdown",
      "metadata": {
        "id": "T0tA_t97mm3o"
      },
      "source": [
        "1-> a) Print the initial position"
      ]
    },
    {
      "cell_type": "code",
      "execution_count": null,
      "metadata": {
        "colab": {
          "base_uri": "https://localhost:8080/"
        },
        "id": "Q8Z_KnWQo3cQ",
        "outputId": "3eb30620-c444-4d76-ddb6-4712edf70672"
      },
      "outputs": [
        {
          "name": "stdout",
          "output_type": "stream",
          "text": [
            "0\n"
          ]
        }
      ],
      "source": [
        "f=open(\"Text.txt\",\"r\")\n",
        "print(f.tell())"
      ]
    },
    {
      "cell_type": "markdown",
      "metadata": {
        "id": "19MQ33UrpFsB"
      },
      "source": [
        "1-> b) Move the cursor to 4th position"
      ]
    },
    {
      "cell_type": "code",
      "execution_count": null,
      "metadata": {
        "colab": {
          "base_uri": "https://localhost:8080/"
        },
        "id": "aXOfmCclpFbR",
        "outputId": "0d0c2439-8643-4f96-f92c-fd6e5f7c3b42"
      },
      "outputs": [
        {
          "name": "stdout",
          "output_type": "stream",
          "text": [
            "4\n"
          ]
        }
      ],
      "source": [
        "f.seek(4)\n",
        "print(f.tell())"
      ]
    },
    {
      "cell_type": "markdown",
      "metadata": {
        "id": "yGedmaBwpVMe"
      },
      "source": [
        "1-> c) Display next 5 characters"
      ]
    },
    {
      "cell_type": "code",
      "execution_count": null,
      "metadata": {
        "colab": {
          "base_uri": "https://localhost:8080/"
        },
        "id": "u8LQfIK5paSn",
        "outputId": "bafd119f-b385-43d1-c57c-20c1677ee1c0"
      },
      "outputs": [
        {
          "name": "stdout",
          "output_type": "stream",
          "text": [
            " not \n"
          ]
        }
      ],
      "source": [
        "print(f.read(5))"
      ]
    },
    {
      "cell_type": "markdown",
      "metadata": {
        "id": "JucEEr8hp8Wx"
      },
      "source": [
        "1-> d) Move the cursor to the next 10 characters"
      ]
    },
    {
      "cell_type": "code",
      "execution_count": null,
      "metadata": {
        "colab": {
          "base_uri": "https://localhost:8080/"
        },
        "id": "ORIj4aQJp_xe",
        "outputId": "a94227a6-4fab-4791-a369-cb020a72b396"
      },
      "outputs": [
        {
          "data": {
            "text/plain": [
              "19"
            ]
          },
          "execution_count": 93,
          "metadata": {},
          "output_type": "execute_result"
        }
      ],
      "source": [
        "n=f.tell()\n",
        "f.seek(n+10)  #f.seek(10,1) which moves the cursor 10 ahead from the current cursor position is not working"
      ]
    },
    {
      "cell_type": "markdown",
      "metadata": {
        "id": "VhclVO4rrJKN"
      },
      "source": [
        "1-> e) Print the current cursor position"
      ]
    },
    {
      "cell_type": "code",
      "execution_count": null,
      "metadata": {
        "colab": {
          "base_uri": "https://localhost:8080/"
        },
        "id": "Fl5JNjGorRPE",
        "outputId": "11452f23-cb71-4fb4-e412-5940f14d09d3"
      },
      "outputs": [
        {
          "name": "stdout",
          "output_type": "stream",
          "text": [
            "19\n"
          ]
        }
      ],
      "source": [
        "print(f.tell())"
      ]
    },
    {
      "cell_type": "markdown",
      "metadata": {
        "id": "O6y0mmFwrgD2"
      },
      "source": [
        "1-> f) Print next 10 characters from the current cursor position"
      ]
    },
    {
      "cell_type": "code",
      "execution_count": null,
      "metadata": {
        "colab": {
          "base_uri": "https://localhost:8080/"
        },
        "id": "agYxpncqriRz",
        "outputId": "795ebbb3-2321-425f-9187-acf287f5baa8"
      },
      "outputs": [
        {
          "name": "stdout",
          "output_type": "stream",
          "text": [
            "rs who can\n"
          ]
        }
      ],
      "source": [
        "print(f.read(10))"
      ]
    },
    {
      "cell_type": "code",
      "execution_count": null,
      "metadata": {
        "id": "kWz_Hio-sBmD"
      },
      "outputs": [],
      "source": [
        "f.close() #closing the file"
      ]
    },
    {
      "cell_type": "markdown",
      "metadata": {
        "id": "EE7KQWtGr5Fl"
      },
      "source": [
        "2. Count the total number of upper case, lower case, and digits used in the text file."
      ]
    },
    {
      "cell_type": "code",
      "execution_count": null,
      "metadata": {
        "colab": {
          "base_uri": "https://localhost:8080/"
        },
        "id": "g7SxUjekr6f1",
        "outputId": "793b1da3-7138-48ba-add2-6c2a292ea07b"
      },
      "outputs": [
        {
          "name": "stdout",
          "output_type": "stream",
          "text": [
            "No of Upper Case characters: 10\n",
            "No of Lower Case characters: 833\n",
            "No of Digit characters: 10\n"
          ]
        }
      ],
      "source": [
        "f=open(\"Text.txt\",\"r\")\n",
        "uc=0\n",
        "lc=0\n",
        "d=0\n",
        "for i in f:\n",
        "  for j in i:\n",
        "    if(j.isupper()):\n",
        "      uc+=1\n",
        "    elif(j.islower()):\n",
        "      lc+=1\n",
        "    elif(j.isdigit()):\n",
        "      d+=1\n",
        "print(\"No of Upper Case characters:\",uc)\n",
        "print(\"No of Lower Case characters:\",lc)\n",
        "print(\"No of Digit characters:\",d)\n",
        "f.close()"
      ]
    },
    {
      "cell_type": "markdown",
      "metadata": {
        "id": "OI6-RMO6tK3w"
      },
      "source": [
        "3. Write a program to count a total number of lines and count the total number of lines\n",
        "starting with ‘A’, ‘B’, and ‘C’."
      ]
    },
    {
      "cell_type": "code",
      "execution_count": null,
      "metadata": {
        "colab": {
          "base_uri": "https://localhost:8080/"
        },
        "id": "07xNKwj2tNK3",
        "outputId": "b3347027-ab61-47b6-de6a-ca4ffbf49ce7"
      },
      "outputs": [
        {
          "name": "stdout",
          "output_type": "stream",
          "text": [
            "Number of lines: 3\n",
            "Number of lines starting with 'A': 1\n",
            "Number of lines starting with 'B': 0\n",
            "Number of lines starting with 'C': 0\n"
          ]
        }
      ],
      "source": [
        "f=open(\"Text.txt\",\"r\")\n",
        "lines=0\n",
        "a,b,c=0,0,0\n",
        "for i in f.readlines():\n",
        "  lines+=1\n",
        "  if(i[0]=='A'):\n",
        "    a+=1\n",
        "  if(i[0]=='B'):\n",
        "    b+=1\n",
        "  if(i[0]=='C'):\n",
        "    c+=1\n",
        "print(\"Number of lines:\",lines)\n",
        "print(\"Number of lines starting with 'A':\",a)\n",
        "print(\"Number of lines starting with 'B':\",b)\n",
        "print(\"Number of lines starting with 'C':\",c)\n",
        "f.close()"
      ]
    },
    {
      "cell_type": "markdown",
      "metadata": {
        "id": "abeFqxAcubMa"
      },
      "source": [
        "4. Find the total occurrences of a specific word from a text file."
      ]
    },
    {
      "cell_type": "code",
      "execution_count": null,
      "metadata": {
        "colab": {
          "base_uri": "https://localhost:8080/"
        },
        "id": "_EAsjtNKudB3",
        "outputId": "772a2b2d-55fb-4f59-ac03-51774d5b195a"
      },
      "outputs": [
        {
          "name": "stdout",
          "output_type": "stream",
          "text": [
            "Enter the specific word to find out its total occurances:to\n",
            "No of occurance for ' to ': 3\n"
          ]
        }
      ],
      "source": [
        "f=open(\"Text.txt\",\"r\")\n",
        "word=input(\"Enter the specific word to find out its total occurances:\")\n",
        "count=0\n",
        "for i in f:\n",
        "  if(word in i):\n",
        "    count+=1\n",
        "print(\"No of occurance for '\",word,\"':\",count)\n",
        "f.close()"
      ]
    },
    {
      "cell_type": "markdown",
      "metadata": {
        "id": "Vd6tFHipvaKq"
      },
      "source": [
        "5. Replace all spaces from text with – (dash)."
      ]
    },
    {
      "cell_type": "code",
      "execution_count": null,
      "metadata": {
        "colab": {
          "base_uri": "https://localhost:8080/"
        },
        "id": "mn5zLty0vbq3",
        "outputId": "48bcbc84-6ce5-4fae-ac0e-5cb1f76e8df8"
      },
      "outputs": [
        {
          "name": "stdout",
          "output_type": "stream",
          "text": [
            "It's-not-only-writers-who-can-benefit-from-this-free-online-tool.-If-you're-a-programmer-who's-working-on-a-project-where-blocks-of-text-are-needed,-this-tool-can-be-a-great-way-to-get-that.-It's-a-good-way-to-test-your-programming-and-that-the-tool-being-created-is-working-well.\n",
            "\n",
            "Above-are-a-few-examples-of-how-the-random-paragraph-generator-can-be-beneficial.-The-best-way-to-see-if-this-random-paragraph-picker-will-be-useful-for-your-intended-purposes-is-to-give-it-a-try.-Generate-a-number-of-paragraphs-to-see-if-they-are-beneficial-to-your-current-project.\n",
            "\n",
            "If-you-do-find-this-paragraph-tool-useful,-please-do-us(5456464646)-a-favor-and-let-us-know-how-you're-using-it.-It's-greatly-beneficial-for-us-to-know-the-different-ways-this-tool-is-being-used-so-we-can-improve-it-with-updates.-This-is-especially-true-since-there-are-times-when-the-generators-we-create-get-used-in-completely-unanticipated-ways-from-when-we-initially-created-them.-If-you-have-the-time,-please-send-us-a-quick-note-on-what-you'd-like-to-see-changed-or-added-to-make-it-better-in-the-future.\n"
          ]
        }
      ],
      "source": [
        "f=open(\"Text.txt\",\"r\")\n",
        "lines=f.readlines()\n",
        "f.close()\n",
        "f=open(\"Text.txt\",\"w\")\n",
        "for i in lines:\n",
        "  i=i.replace(\" \",\"-\")\n",
        "  f.write(i)\n",
        "f.close()\n",
        "f=open(\"Text.txt\",\"r\")\n",
        "for i in f.readlines():\n",
        "  print(i)"
      ]
    }
  ],
  "metadata": {
    "colab": {
      "collapsed_sections": [],
      "provenance": []
    },
    "kernelspec": {
      "display_name": "Python 3",
      "name": "python3"
    },
    "language_info": {
      "name": "python"
    }
  },
  "nbformat": 4,
  "nbformat_minor": 0
}
