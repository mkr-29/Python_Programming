{
  "cells": [
    {
      "cell_type": "markdown",
      "metadata": {
        "id": "qdAQKEOsIDij"
      },
      "source": [
        "Experiment 9"
      ]
    },
    {
      "cell_type": "markdown",
      "metadata": {
        "id": "lHeo3ZOzIPcV"
      },
      "source": [
        "1. Write a Python program to print all even numbers from a given numbers list in the same order and stop the printing if any numbers that come after 237 in the sequence. \n",
        "Sample numbers list : numbers = [ 386, 462, 47, 418, 907, 344, 236, 375, 823, 566, 597, 978, 328, 615, 953, 345, 399, 162, 758, 219, 918, 237, 412, 566, 826, 248, 866, 950, 626, 949, 687, 217, 815, 67, 104, 58, 512, 24, 892, 894, 767, 553, 81, 379, 843, 831, 445, 742, 717, 958,743, 527]"
      ]
    },
    {
      "cell_type": "code",
      "execution_count": null,
      "metadata": {
        "colab": {
          "base_uri": "https://localhost:8080/"
        },
        "id": "bVggMiawIB7G",
        "outputId": "bd8bab10-e8fc-4083-f978-d441754a8c8a"
      },
      "outputs": [
        {
          "name": "stdout",
          "output_type": "stream",
          "text": [
            "386\n",
            "462\n",
            "418\n",
            "344\n",
            "236\n",
            "566\n",
            "978\n",
            "328\n",
            "162\n",
            "758\n",
            "918\n"
          ]
        }
      ],
      "source": [
        "numbers=[386,462,47,418,907,344,236,375,823,566,597,978,328,615,953,345,399,162,758,219,918,237,412,566,826,248,866,950,626,949,687,217,815,67,104,58,512,24,892,894,767,553,81,379,843,831,445,742,717,958,743,527]\n",
        "for i in range(0,len(numbers)):\n",
        "    if(numbers[i]%2==0):\n",
        "        print(numbers[i])\n",
        "    elif(numbers[i]==237):\n",
        "        break\n",
        "    else:\n",
        "        continue"
      ]
    },
    {
      "cell_type": "markdown",
      "metadata": {
        "id": "iBrZS9KXI5Wk"
      },
      "source": [
        "2. Write a Python program to print sum of two given integers. However, if the sum is between 15 to 20 it will return 20."
      ]
    },
    {
      "cell_type": "code",
      "execution_count": null,
      "metadata": {
        "colab": {
          "base_uri": "https://localhost:8080/"
        },
        "id": "NrtfQLxBJAeA",
        "outputId": "53679785-782f-4306-ea89-bf184f7dea53"
      },
      "outputs": [
        {
          "name": "stdout",
          "output_type": "stream",
          "text": [
            "Enter an integer:9\n",
            "Enter an integer:12\n",
            "21\n"
          ]
        }
      ],
      "source": [
        "a=int(input(\"Enter an integer:\"))\n",
        "b=int(input(\"Enter an integer:\"))\n",
        "c=a+b\n",
        "if(c>=15 and c<=20):\n",
        "    print(20)\n",
        "else:\n",
        "    print(c)"
      ]
    },
    {
      "cell_type": "markdown",
      "metadata": {
        "id": "14LFjiKWKQ0b"
      },
      "source": [
        "3. Write a Python program to compute the future value of a specified principal amount, rate of interest, and a number of years.\n",
        "Test Data : amt = 10000, int = 3.5, years = 7 Expected Output : 12722.79"
      ]
    },
    {
      "cell_type": "code",
      "execution_count": null,
      "metadata": {
        "colab": {
          "base_uri": "https://localhost:8080/"
        },
        "id": "rrNOu8r1KRql",
        "outputId": "47b8e5bf-6626-49ca-e030-82e7d92a6328"
      },
      "outputs": [
        {
          "name": "stdout",
          "output_type": "stream",
          "text": [
            "Enter Principle Amount:10000\n",
            "Enter Rate of Interest:3.5\n",
            "Enter Time in Years:7\n",
            "12722.79\n"
          ]
        }
      ],
      "source": [
        "p=float(input(\"Enter Principle Amount:\"))\n",
        "r=float(input(\"Enter Rate of Interest:\"))\n",
        "t=float(input(\"Enter Time in Years:\"))\n",
        "cpt=p*((1+r/100)**t)\n",
        "cpt_2=\"{:.2f}\".format(cpt)\n",
        "print(cpt_2)"
      ]
    }
  ],
  "metadata": {
    "colab": {
      "provenance": []
    },
    "kernelspec": {
      "display_name": "Python 3",
      "name": "python3"
    },
    "language_info": {
      "name": "python"
    }
  },
  "nbformat": 4,
  "nbformat_minor": 0
}
