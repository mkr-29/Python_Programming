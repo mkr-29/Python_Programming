{
  "cells": [
    {
      "cell_type": "markdown",
      "metadata": {
        "id": "AQt_QmIJIfO4"
      },
      "source": [
        "Experiment 11"
      ]
    },
    {
      "cell_type": "markdown",
      "metadata": {
        "id": "W-jxNe_AIzs5"
      },
      "source": [
        "1. WAP to convert the elements of two lists into key-value pairs of a dictionary."
      ]
    },
    {
      "cell_type": "code",
      "execution_count": null,
      "metadata": {
        "colab": {
          "base_uri": "https://localhost:8080/"
        },
        "id": "lYslsg0RIdrK",
        "outputId": "c416a024-e42a-4281-d149-29f85d09cca7"
      },
      "outputs": [
        {
          "name": "stdout",
          "output_type": "stream",
          "text": [
            "List 1: [1, 2, 3, 4, 5, 6]\n",
            "List 2: ['a', 'b', 'c', 'd', 'e', 'f']\n",
            "Dictionary made using List 1 and List 2:  {1: 'a', 2: 'b', 3: 'c', 4: 'd', 5: 'e', 6: 'f'}\n"
          ]
        }
      ],
      "source": [
        "list_1=[1,2,3,4,5,6]\n",
        "list_2=[\"a\",\"b\",\"c\",\"d\",\"e\",\"f\"]\n",
        "dict_1={}\n",
        "for i in range (len(list_1)):\n",
        "    dict_1.update({list_1[i]:list_2[i]})\n",
        "print(\"List 1:\",list_1)\n",
        "print(\"List 2:\",list_2)\n",
        "print(\"Dictionary made using List 1 and List 2: \",dict_1)"
      ]
    },
    {
      "cell_type": "markdown",
      "metadata": {
        "id": "8LU1OuLXOLcZ"
      },
      "source": [
        "2. WAP to find the common elements in two lists."
      ]
    },
    {
      "cell_type": "code",
      "execution_count": null,
      "metadata": {
        "colab": {
          "base_uri": "https://localhost:8080/"
        },
        "id": "hYoMDr1bOfj9",
        "outputId": "41a8ac0d-6e54-411b-cc7d-734a0ad56b3b"
      },
      "outputs": [
        {
          "name": "stdout",
          "output_type": "stream",
          "text": [
            "List 1: [35, 65, 15, 38, 61, 68, 94, 48]\n",
            "List 2: [32, 14, 28, 26, 78, 71, 63, 33, 49, 94]\n",
            "Common element is: 94\n"
          ]
        }
      ],
      "source": [
        "list_1=[35,65,15,38,61,68,94,48]\n",
        "list_2=[32,14,28,26,78,71,63,33,49,94]\n",
        "print(\"List 1:\",list_1)\n",
        "print(\"List 2:\",list_2)\n",
        "for i in range (len(list_1)):\n",
        "    for j in range (len(list_2)):\n",
        "        if(list_1[i]==list_2[j]):\n",
        "            print(\"Common element is:\",list_1[i])"
      ]
    },
    {
      "cell_type": "markdown",
      "metadata": {
        "id": "HAqElIxDPZt6"
      },
      "source": [
        "3. WAP to modify an existing element of a tuple with a new element."
      ]
    },
    {
      "cell_type": "code",
      "execution_count": null,
      "metadata": {
        "colab": {
          "base_uri": "https://localhost:8080/"
        },
        "id": "ACqU5qQ5Pb8v",
        "outputId": "d0935201-2bd2-4314-a27c-1c47ed1951bc"
      },
      "outputs": [
        {
          "name": "stdout",
          "output_type": "stream",
          "text": [
            "Tuple Before Update: (1, 3, 9, 7, 5, 6)\n",
            "Tuple After Update: (1, 3, 9, 56, 5, 6)\n"
          ]
        }
      ],
      "source": [
        "tup_1=(1,3,9,7,5,6)\n",
        "print(\"Tuple Before Update:\",tup_1)\n",
        "list_1=list(tup_1)\n",
        "list_1[3]=56\n",
        "tup_1=tuple(list_1)\n",
        "print(\"Tuple After Update:\",tup_1)"
      ]
    },
    {
      "cell_type": "markdown",
      "metadata": {
        "id": "o31587bHRgvC"
      },
      "source": [
        "4. WAP to delete an element from a particular position in a tuple."
      ]
    },
    {
      "cell_type": "code",
      "execution_count": null,
      "metadata": {
        "colab": {
          "base_uri": "https://localhost:8080/"
        },
        "id": "-GDdwMLHRjlc",
        "outputId": "a6ae9828-5ad2-490e-f68d-b5ca04c3e6c4"
      },
      "outputs": [
        {
          "name": "stdout",
          "output_type": "stream",
          "text": [
            "Tuple before removing an element: (26, 35, 64, 97, 45, 12)\n",
            "Tuple after removing an element: (26, 35, 64, 45, 12)\n"
          ]
        }
      ],
      "source": [
        "tup_1=(26,35,64,97,45,12)\n",
        "print(\"Tuple before removing an element:\",tup_1)\n",
        "list_1=list(tup_1)\n",
        "list_1.remove(97)\n",
        "tup_1=tuple(list_1)\n",
        "print(\"Tuple after removing an element:\",tup_1)"
      ]
    }
  ],
  "metadata": {
    "colab": {
      "collapsed_sections": [],
      "provenance": []
    },
    "kernelspec": {
      "display_name": "Python 3.10.1 64-bit",
      "language": "python",
      "name": "python3"
    },
    "language_info": {
      "name": "python",
      "version": "3.10.1"
    },
    "vscode": {
      "interpreter": {
        "hash": "ec1f4382e1796e4aca30cabb0ec51fac13e74831d675e5f70d6623b69632e3ed"
      }
    }
  },
  "nbformat": 4,
  "nbformat_minor": 0
}
