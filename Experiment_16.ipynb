{
  "cells": [
    {
      "cell_type": "markdown",
      "metadata": {
        "id": "JNW4tUN_wDe4"
      },
      "source": [
        "Experiment 16"
      ]
    },
    {
      "cell_type": "markdown",
      "metadata": {
        "id": "TUAXeEYgwKF_"
      },
      "source": [
        "1. Write a NumPy program to reverse an array (first element becomes last)."
      ]
    },
    {
      "cell_type": "code",
      "execution_count": null,
      "metadata": {
        "colab": {
          "base_uri": "https://localhost:8080/"
        },
        "id": "m01sh34Qv7it",
        "outputId": "130fd173-53a2-48b2-c44f-a2bdbd4eb5f3"
      },
      "outputs": [
        {
          "name": "stdout",
          "output_type": "stream",
          "text": [
            "Original Array: [1 2 3 6 4 5]\n",
            "Reversed Array: [5 4 6 3 2 1]\n"
          ]
        }
      ],
      "source": [
        "import numpy as npy\n",
        "arr1=npy.array([1, 2, 3, 6, 4, 5])\n",
        "r_arr1=npy.flip(arr1)\n",
        "print(\"Original Array:\",arr1)\n",
        "print(\"Reversed Array:\", str(r_arr1))"
      ]
    },
    {
      "cell_type": "markdown",
      "metadata": {
        "id": "G6_yQsPIw1Ic"
      },
      "source": [
        "2.   Write a NumPy program to create a 2-dimensional array of size 2 x 3 also print the shape, type and data type of the array.\n"
      ]
    },
    {
      "cell_type": "code",
      "execution_count": null,
      "metadata": {
        "colab": {
          "base_uri": "https://localhost:8080/"
        },
        "id": "tO0gsZEexKc_",
        "outputId": "f1ca481d-2326-408b-eaf4-76f0f1d78f4e"
      },
      "outputs": [
        {
          "name": "stdout",
          "output_type": "stream",
          "text": [
            "2D Array:\n",
            " [[ 2  4  6]\n",
            " [ 6  8 10]]\n",
            "Array Shape: (2, 3)\n",
            "Array Type: <class 'numpy.ndarray'>\n",
            "Array Data Type: int64\n"
          ]
        }
      ],
      "source": [
        "import numpy as npy\n",
        "arr_1=npy.array([[2, 4, 6], [6, 8, 10]])\n",
        "print(\"2D Array:\\n\",arr_1)\n",
        "print(\"Array Shape:\",arr_1.shape)\n",
        "print(\"Array Type:\",type(arr_1))\n",
        "print(\"Array Data Type:\",arr_1.dtype)"
      ]
    },
    {
      "cell_type": "markdown",
      "metadata": {
        "id": "nxRKdTv7w2y8"
      },
      "source": [
        "3.   Write a NumPy program to create a 2-D array with ones on the diagonal and zeros elsewhere.\n"
      ]
    },
    {
      "cell_type": "code",
      "execution_count": null,
      "metadata": {
        "colab": {
          "base_uri": "https://localhost:8080/"
        },
        "id": "xl96lNZmx6Ha",
        "outputId": "1f8a6736-1001-47eb-f69d-e681a8b2f4ac"
      },
      "outputs": [
        {
          "name": "stdout",
          "output_type": "stream",
          "text": [
            "Array with ones on the diagonal and zeros elsewhere:\n",
            " [[1 0 0 0 0]\n",
            " [0 1 0 0 0]\n",
            " [0 0 1 0 0]\n",
            " [0 0 0 1 0]\n",
            " [0 0 0 0 1]]\n"
          ]
        }
      ],
      "source": [
        "import numpy as npy\n",
        "arr_1=npy.diagflat([1,1,1,1,1])\n",
        "print(\"Array with ones on the diagonal and zeros elsewhere:\\n\",arr_1)"
      ]
    },
    {
      "cell_type": "markdown",
      "metadata": {
        "id": "LAJ2zeZjw4fz"
      },
      "source": [
        "4.   Write a NumPy program to multiply and add two 3 x 3 matrices.\n"
      ]
    },
    {
      "cell_type": "code",
      "execution_count": null,
      "metadata": {
        "colab": {
          "base_uri": "https://localhost:8080/"
        },
        "id": "y1zwQOXhyW7K",
        "outputId": "2a536695-e2b1-4b7c-f77d-c96a678b1814"
      },
      "outputs": [
        {
          "name": "stdout",
          "output_type": "stream",
          "text": [
            "Matrix 1:\n",
            "[1, 3, 9]\n",
            "[1, 4, 2]\n",
            "[5, 2, 9]\n",
            "\n",
            "Matrix 2:\n",
            "[3, 4, 7]\n",
            "[5, 7, 2]\n",
            "[4, 1, 7]\n",
            "\n",
            "Multiplication:\n",
            " [[ 54  34  76]\n",
            " [ 31  34  29]\n",
            " [ 61  43 102]]\n",
            "\n",
            "Addition:\n",
            " [[ 4  7 16]\n",
            " [ 6 11  4]\n",
            " [ 9  3 16]]\n"
          ]
        }
      ],
      "source": [
        "import numpy as npy\n",
        "mat1=([1,3,9],[1,4,2],[5,2,9])\n",
        "mat2=([3,4,7],[5,7,2],[4,1,7])\n",
        "mat_m=npy.dot(mat1,mat2)\n",
        "mat_a=npy.add(mat1,mat2)\n",
        "print(\"Matrix 1:\")\n",
        "for i in range (3):\n",
        "  print(mat1[i])\n",
        "print(\"\\nMatrix 2:\")\n",
        "for i in range (3):\n",
        "  print(mat2[i])\n",
        "print(\"\\nMultiplication:\\n\",mat_m)\n",
        "print(\"\\nAddition:\\n\",mat_a)"
      ]
    },
    {
      "cell_type": "markdown",
      "metadata": {
        "id": "ZDspWRVQw6wT"
      },
      "source": [
        "5.   Write a NumPy program to compute the trigonometric sine, cosine and tangent array of angles given in degrees.\n"
      ]
    },
    {
      "cell_type": "code",
      "execution_count": null,
      "metadata": {
        "colab": {
          "base_uri": "https://localhost:8080/"
        },
        "id": "4JmpgIoa1XqZ",
        "outputId": "8bd71058-1d14-47f2-a4e9-c95867a006b8"
      },
      "outputs": [
        {
          "name": "stdout",
          "output_type": "stream",
          "text": [
            "Array of angles given in degrees:\n",
            " [  0.  30.  45.  60.  90. 180.]\n",
            "\n",
            "Trignometric Sine:\n",
            " [ 0.         -0.98803162  0.85090352 -0.30481062  0.89399666 -0.80115264]\n",
            "\n",
            "Trignometric Cosine:\n",
            " [ 1.          0.15425145  0.52532199 -0.95241298 -0.44807362 -0.59846007]\n",
            "\n",
            "Trignometric Tangent:\n",
            " [ 0.         -6.4053312   1.61977519  0.32004039 -1.99520041  1.33869021]\n"
          ]
        }
      ],
      "source": [
        "import numpy as npy\n",
        "arr1=npy.array((0.,30.,45.,60.,90.,180.))\n",
        "print(\"Array of angles given in degrees:\\n\", arr1)\n",
        "print(\"\\nTrignometric Sine:\\n\",npy.sin(arr1))\n",
        "print(\"\\nTrignometric Cosine:\\n\",npy.cos(arr1))\n",
        "print(\"\\nTrignometric Tangent:\\n\",npy.tan(arr1))"
      ]
    },
    {
      "cell_type": "markdown",
      "metadata": {
        "id": "YzROQ7sZw71b"
      },
      "source": [
        "6.   Write a NumPy program to compute exponential, element-wise of a given array."
      ]
    },
    {
      "cell_type": "code",
      "execution_count": null,
      "metadata": {
        "colab": {
          "base_uri": "https://localhost:8080/"
        },
        "id": "fxFgivwZ2ySm",
        "outputId": "69cf93fc-1c18-4e27-d5bf-b2cad5235988"
      },
      "outputs": [
        {
          "name": "stdout",
          "output_type": "stream",
          "text": [
            "Original array:  [1 3 5 7]\n",
            "\n",
            "Exponential, element-wise:  [   2.71828183   20.08553692  148.4131591  1096.63315843]\n"
          ]
        }
      ],
      "source": [
        "import numpy as npy\n",
        "arr1=npy.array([1, 3, 5, 7])\n",
        "print(\"Original array: \",arr1)\n",
        "exp_arr1=npy.exp(arr1)\n",
        "print(\"\\nExponential, element-wise: \",exp_arr1)"
      ]
    }
  ],
  "metadata": {
    "colab": {
      "provenance": []
    },
    "kernelspec": {
      "display_name": "Python 3.10.1 64-bit",
      "language": "python",
      "name": "python3"
    },
    "language_info": {
      "name": "python",
      "version": "3.10.1"
    },
    "vscode": {
      "interpreter": {
        "hash": "ec1f4382e1796e4aca30cabb0ec51fac13e74831d675e5f70d6623b69632e3ed"
      }
    }
  },
  "nbformat": 4,
  "nbformat_minor": 0
}
