{
  "cells": [
    {
      "cell_type": "markdown",
      "metadata": {
        "id": "afu6J9x0_H_C"
      },
      "source": [
        "Write a Python program to perform basic arithmetic operations: Addition, Subtraction, Multiplication and Division."
      ]
    },
    {
      "cell_type": "markdown",
      "metadata": {
        "id": "fi5kfyhk_Yt4"
      },
      "source": [
        "1. ADDITION OF TWO NUMBERS"
      ]
    },
    {
      "cell_type": "code",
      "execution_count": 1,
      "metadata": {
        "colab": {
          "base_uri": "https://localhost:8080/"
        },
        "id": "woURVDm_--lB",
        "outputId": "3b41c559-5fe6-45e5-f204-99822c148cf6"
      },
      "outputs": [
        {
          "name": "stdout",
          "output_type": "stream",
          "text": [
            "Enter 1st number:8\n",
            "Enter 2nd number:6\n",
            "The Addition is: 14\n"
          ]
        }
      ],
      "source": [
        "a=int(input(\"Enter 1st number:\"))\n",
        "b=int(input(\"Enter 2nd number:\"))\n",
        "c=a+b\n",
        "print(\"The Addition is:\",c)"
      ]
    },
    {
      "cell_type": "markdown",
      "metadata": {
        "id": "mMq6AM81_f-W"
      },
      "source": [
        "2. SUBTRACTION OF TWO NUMBERS"
      ]
    },
    {
      "cell_type": "code",
      "execution_count": 2,
      "metadata": {
        "colab": {
          "base_uri": "https://localhost:8080/"
        },
        "id": "MHeZlkqb_qoS",
        "outputId": "51830c1a-cb99-4a59-e44d-cc3f4d6629ba"
      },
      "outputs": [
        {
          "name": "stdout",
          "output_type": "stream",
          "text": [
            "Enter 1st number:5\n",
            "Enter 2nd number:3\n",
            "The Subtraction is: 2\n"
          ]
        }
      ],
      "source": [
        "a=int(input(\"Enter 1st number:\"))\n",
        "b=int(input(\"Enter 2nd number:\"))\n",
        "c=a-b\n",
        "print(\"The Subtraction is:\",c)\n"
      ]
    },
    {
      "cell_type": "markdown",
      "metadata": {
        "id": "dvBULGFz_t-e"
      },
      "source": [
        "3. MULTIPLICATION OF TWO NUMBERS"
      ]
    },
    {
      "cell_type": "code",
      "execution_count": 3,
      "metadata": {
        "colab": {
          "base_uri": "https://localhost:8080/"
        },
        "id": "G4gIczuo_xMw",
        "outputId": "81040cf6-1bca-4773-9251-ac5bcece6854"
      },
      "outputs": [
        {
          "name": "stdout",
          "output_type": "stream",
          "text": [
            "Enter 1st number:5\n",
            "Enter 2nd number:2\n",
            "The Multiplication is: 10\n"
          ]
        }
      ],
      "source": [
        "a=int(input(\"Enter 1st number:\"))\n",
        "b=int(input(\"Enter 2nd number:\"))\n",
        "c=a*b\n",
        "print(\"The Multiplication is:\",c)"
      ]
    },
    {
      "cell_type": "markdown",
      "metadata": {
        "id": "bDNkbQr5_zeG"
      },
      "source": [
        "4. DIVISION OF TWO NUMBERS"
      ]
    },
    {
      "cell_type": "code",
      "execution_count": 4,
      "metadata": {
        "colab": {
          "base_uri": "https://localhost:8080/"
        },
        "id": "ZmWlu8sC_1oW",
        "outputId": "fc7fcee4-fc84-4f64-fa6c-712464c7e1e2"
      },
      "outputs": [
        {
          "name": "stdout",
          "output_type": "stream",
          "text": [
            "Enter 1st number:9\n",
            "Enter 2nd number:3\n",
            "The Division is: 3.0\n"
          ]
        }
      ],
      "source": [
        "a=int(input(\"Enter 1st number:\"))\n",
        "b=int(input(\"Enter 2nd number:\"))\n",
        "c=a/b\n",
        "print(\"The Division is:\",c)"
      ]
    }
  ],
  "metadata": {
    "colab": {
      "name": "Experiment-1.ipynb",
      "provenance": []
    },
    "kernelspec": {
      "display_name": "Python 3",
      "name": "python3"
    },
    "language_info": {
      "name": "python"
    }
  },
  "nbformat": 4,
  "nbformat_minor": 0
}
