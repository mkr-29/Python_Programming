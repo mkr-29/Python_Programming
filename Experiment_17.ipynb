{
  "cells": [
    {
      "cell_type": "markdown",
      "metadata": {
        "id": "ZhmK4U5szKpR"
      },
      "source": [
        "Experiment 17"
      ]
    },
    {
      "cell_type": "markdown",
      "metadata": {
        "id": "pLP6iR7AzUhl"
      },
      "source": [
        "1. Write a function named print_big_enough that accepts two parameters, a list of numbers and a number. The function should print, in order, all the elements in the list that are at least as large as the second parameter."
      ]
    },
    {
      "cell_type": "code",
      "execution_count": null,
      "metadata": {
        "colab": {
          "base_uri": "https://localhost:8080/"
        },
        "id": "raWggMoTzIqc",
        "outputId": "31fe4f9a-e932-47ee-96b0-ae4ed2ad2c16"
      },
      "outputs": [
        {
          "name": "stdout",
          "output_type": "stream",
          "text": [
            "5476\n",
            "53244\n"
          ]
        }
      ],
      "source": [
        "def print_big_enough(list_1,num):\n",
        "  list_1.sort()\n",
        "  for i in range(len(list_1)):\n",
        "    if(list_1[i]>num):\n",
        "      print(list_1[i])\n",
        "\n",
        "list_1=[1,54,67,534,5,5476,53244,32,56,674,9]\n",
        "n=900\n",
        "print_big_enough(list_1,n)"
      ]
    },
    {
      "cell_type": "markdown",
      "metadata": {
        "id": "KJlgeK9K37ah"
      },
      "source": [
        "Use Object Oriented Programming for the following programs:\n",
        "1. Write a Python Program to calculate the area of a circle."
      ]
    },
    {
      "cell_type": "code",
      "execution_count": null,
      "metadata": {
        "colab": {
          "base_uri": "https://localhost:8080/"
        },
        "id": "F_DhDWYm3_GQ",
        "outputId": "e0c9a0fd-0307-4709-9d83-e654edbdb252"
      },
      "outputs": [
        {
          "name": "stdout",
          "output_type": "stream",
          "text": [
            "Enter radius:7\n",
            "Area of the circle is: 43.96\n"
          ]
        }
      ],
      "source": [
        "class circle:\n",
        "  r=0\n",
        "  def __init__(self):\n",
        "    r=0\n",
        "  def enter(self):\n",
        "    self.r=float(input(\"Enter radius:\"))\n",
        "  def area(self):\n",
        "    area=2*3.14*self.r\n",
        "    print(\"Area of the circle is:\",area)\n",
        "\n",
        "obj=circle()\n",
        "obj.enter()\n",
        "obj.area()"
      ]
    },
    {
      "cell_type": "markdown",
      "metadata": {
        "id": "TP8nbVcABRB_"
      },
      "source": [
        "2. Write a Python Program to calculate the volume of a box."
      ]
    },
    {
      "cell_type": "code",
      "execution_count": null,
      "metadata": {
        "colab": {
          "base_uri": "https://localhost:8080/"
        },
        "id": "RTgzd4PUBS0r",
        "outputId": "7c108363-9027-48e2-85e1-5c02638b7edb"
      },
      "outputs": [
        {
          "name": "stdout",
          "output_type": "stream",
          "text": [
            "Enter length:5\n",
            "Enter breadth:3\n",
            "Enter height:4\n",
            "Area of the circle is: 60.0\n"
          ]
        }
      ],
      "source": [
        "class Box:\n",
        "  l=0\n",
        "  b=0\n",
        "  h=0\n",
        "  def __init__(self):\n",
        "    l=0\n",
        "    b=0\n",
        "    h=0\n",
        "  def enter(self):\n",
        "    self.l=float(input(\"Enter length:\"))\n",
        "    self.b=float(input(\"Enter breadth:\"))\n",
        "    self.h=float(input(\"Enter height:\"))\n",
        "  def volume(self):\n",
        "    volume=self.l*self.b*self.h\n",
        "    print(\"Area of the circle is:\",volume)\n",
        "\n",
        "obj=Box()\n",
        "obj.enter()\n",
        "obj.volume()"
      ]
    }
  ],
  "metadata": {
    "colab": {
      "collapsed_sections": [],
      "provenance": []
    },
    "kernelspec": {
      "display_name": "Python 3.10.1 64-bit",
      "language": "python",
      "name": "python3"
    },
    "language_info": {
      "name": "python",
      "version": "3.10.1"
    },
    "vscode": {
      "interpreter": {
        "hash": "ec1f4382e1796e4aca30cabb0ec51fac13e74831d675e5f70d6623b69632e3ed"
      }
    }
  },
  "nbformat": 4,
  "nbformat_minor": 0
}
