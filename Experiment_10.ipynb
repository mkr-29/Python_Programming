{
  "cells": [
    {
      "cell_type": "markdown",
      "metadata": {
        "id": "qzfFhJMJg9Na"
      },
      "source": [
        "Experiment 10"
      ]
    },
    {
      "cell_type": "markdown",
      "metadata": {
        "id": "17fdNtSqg48v"
      },
      "source": [
        " 1. Write a Python program to check if difference between sum of odd digits and sum of even digits is 0 or not."
      ]
    },
    {
      "cell_type": "code",
      "execution_count": null,
      "metadata": {
        "colab": {
          "base_uri": "https://localhost:8080/"
        },
        "id": "haCIbd0jg3JY",
        "outputId": "7c2a3a2c-7430-4956-e284-e17b11baf3e4"
      },
      "outputs": [
        {
          "name": "stdout",
          "output_type": "stream",
          "text": [
            "Enter a number:236985\n",
            "Sum of even digits: 16\n",
            "Sum of odd digits: 17\n",
            "Difference between sum of even and odd digits is not 0.\n"
          ]
        }
      ],
      "source": [
        "n=int(input(\"Enter a number:\"))\n",
        "e=0\n",
        "o=0\n",
        "while n!=0:\n",
        "  a=n%10\n",
        "  if(a%2==0):\n",
        "    e+=a\n",
        "  else:\n",
        "    o+=a\n",
        "  n=n//10\n",
        "diff=e-o\n",
        "print(\"Sum of even digits:\",e)\n",
        "print(\"Sum of odd digits:\",o)\n",
        "if(diff==0):\n",
        "  print(\"Difference between sum of even and odd digits is 0.\")\n",
        "else:\n",
        "  print(\"Difference between sum of even and odd digits is not 0.\")"
      ]
    },
    {
      "cell_type": "markdown",
      "metadata": {
        "id": "IZkcF-gXku7C"
      },
      "source": [
        "2. Write a python Program to find sum of even factors of a number."
      ]
    },
    {
      "cell_type": "code",
      "execution_count": null,
      "metadata": {
        "colab": {
          "base_uri": "https://localhost:8080/"
        },
        "id": "PrdOreslidtR",
        "outputId": "f97b9c51-392f-4fec-9990-1ba2ba6fa993"
      },
      "outputs": [
        {
          "name": "stdout",
          "output_type": "stream",
          "text": [
            "Enter a number:78\n",
            "Sum of even factor of the number is: 112\n"
          ]
        }
      ],
      "source": [
        "n=int(input(\"Enter a number:\"))\n",
        "se=0\n",
        "for i in range(1,n+1):\n",
        "  if(n%i==0):\n",
        "    if(i%2==0):\n",
        "      se+=i\n",
        "  else:\n",
        "    continue\n",
        "print(\"Sum of even factor of the number is:\",se)"
      ]
    },
    {
      "cell_type": "markdown",
      "metadata": {
        "id": "fRLovOr8odH9"
      },
      "source": [
        "3. Write a python Program to check if binary representation of a number is palindrome or not."
      ]
    },
    {
      "cell_type": "code",
      "execution_count": null,
      "metadata": {
        "colab": {
          "base_uri": "https://localhost:8080/"
        },
        "id": "_fygb5VKoe2s",
        "outputId": "fa71e839-96a9-4da3-9efd-8efe76bf4a89"
      },
      "outputs": [
        {
          "name": "stdout",
          "output_type": "stream",
          "text": [
            "Enter a number:12321\n",
            "The number is a palindrome.\n"
          ]
        }
      ],
      "source": [
        "s=input(\"Enter a number:\")\n",
        "l=len(s)\n",
        "f=0\n",
        "e=l-1\n",
        "flag=1\n",
        "while(f<e):\n",
        "  if(s[f]==s[e]):\n",
        "    f+=1\n",
        "    e-=1\n",
        "  else:\n",
        "    flag=0\n",
        "    break\n",
        "if(flag==1):\n",
        "  print(\"The number is a palindrome.\")\n",
        "else:\n",
        "  print(\"The number is not a palindrome.\")"
      ]
    }
  ],
  "metadata": {
    "colab": {
      "provenance": []
    },
    "kernelspec": {
      "display_name": "Python 3",
      "name": "python3"
    },
    "language_info": {
      "name": "python"
    }
  },
  "nbformat": 4,
  "nbformat_minor": 0
}
